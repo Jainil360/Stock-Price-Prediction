{
 "cells": [
  {
   "cell_type": "markdown",
   "metadata": {},
   "source": [
    "# Stock Market data prediction using Historical Data"
   ]
  },
  {
   "cell_type": "markdown",
   "metadata": {},
   "source": [
    "## Importing Libraries "
   ]
  },
  {
   "cell_type": "code",
   "execution_count": 148,
   "metadata": {},
   "outputs": [],
   "source": [
    "import pandas as pd\n",
    "from sklearn.linear_model import LinearRegression,LogisticRegression\n",
    "import pandas_datareader as web\n",
    "model = LinearRegression()"
   ]
  },
  {
   "cell_type": "markdown",
   "metadata": {},
   "source": [
    "# Training and Testing for Different Stock (TATA STEEL)"
   ]
  },
  {
   "cell_type": "markdown",
   "metadata": {},
   "source": [
    "# Predict next day's close price (Experimental)"
   ]
  },
  {
   "cell_type": "code",
   "execution_count": 212,
   "metadata": {},
   "outputs": [
    {
     "data": {
      "text/html": [
       "<div>\n",
       "<style scoped>\n",
       "    .dataframe tbody tr th:only-of-type {\n",
       "        vertical-align: middle;\n",
       "    }\n",
       "\n",
       "    .dataframe tbody tr th {\n",
       "        vertical-align: top;\n",
       "    }\n",
       "\n",
       "    .dataframe thead th {\n",
       "        text-align: right;\n",
       "    }\n",
       "</style>\n",
       "<table border=\"1\" class=\"dataframe\">\n",
       "  <thead>\n",
       "    <tr style=\"text-align: right;\">\n",
       "      <th></th>\n",
       "      <th>Date</th>\n",
       "      <th>High</th>\n",
       "      <th>Low</th>\n",
       "      <th>Open</th>\n",
       "      <th>Close</th>\n",
       "      <th>Volume</th>\n",
       "      <th>Adj Close</th>\n",
       "    </tr>\n",
       "  </thead>\n",
       "  <tbody>\n",
       "    <tr>\n",
       "      <th>255</th>\n",
       "      <td>2021-01-08</td>\n",
       "      <td>201.500000</td>\n",
       "      <td>197.100006</td>\n",
       "      <td>198.750000</td>\n",
       "      <td>198.149994</td>\n",
       "      <td>53991568.0</td>\n",
       "      <td>198.149994</td>\n",
       "    </tr>\n",
       "    <tr>\n",
       "      <th>256</th>\n",
       "      <td>2021-01-11</td>\n",
       "      <td>225.399994</td>\n",
       "      <td>199.649994</td>\n",
       "      <td>199.899994</td>\n",
       "      <td>220.649994</td>\n",
       "      <td>182483100.0</td>\n",
       "      <td>220.649994</td>\n",
       "    </tr>\n",
       "    <tr>\n",
       "      <th>257</th>\n",
       "      <td>2021-01-12</td>\n",
       "      <td>252.399994</td>\n",
       "      <td>224.100006</td>\n",
       "      <td>227.000000</td>\n",
       "      <td>237.800003</td>\n",
       "      <td>390577839.0</td>\n",
       "      <td>237.800003</td>\n",
       "    </tr>\n",
       "    <tr>\n",
       "      <th>258</th>\n",
       "      <td>2021-01-13</td>\n",
       "      <td>248.800003</td>\n",
       "      <td>238.399994</td>\n",
       "      <td>242.899994</td>\n",
       "      <td>242.600006</td>\n",
       "      <td>164649387.0</td>\n",
       "      <td>242.600006</td>\n",
       "    </tr>\n",
       "    <tr>\n",
       "      <th>259</th>\n",
       "      <td>2021-01-14</td>\n",
       "      <td>249.800003</td>\n",
       "      <td>238.600006</td>\n",
       "      <td>242.850006</td>\n",
       "      <td>245.100006</td>\n",
       "      <td>86819519.0</td>\n",
       "      <td>245.100006</td>\n",
       "    </tr>\n",
       "  </tbody>\n",
       "</table>\n",
       "</div>"
      ],
      "text/plain": [
       "          Date        High         Low        Open       Close       Volume  \\\n",
       "255 2021-01-08  201.500000  197.100006  198.750000  198.149994   53991568.0   \n",
       "256 2021-01-11  225.399994  199.649994  199.899994  220.649994  182483100.0   \n",
       "257 2021-01-12  252.399994  224.100006  227.000000  237.800003  390577839.0   \n",
       "258 2021-01-13  248.800003  238.399994  242.899994  242.600006  164649387.0   \n",
       "259 2021-01-14  249.800003  238.600006  242.850006  245.100006   86819519.0   \n",
       "\n",
       "      Adj Close  \n",
       "255  198.149994  \n",
       "256  220.649994  \n",
       "257  237.800003  \n",
       "258  242.600006  \n",
       "259  245.100006  "
      ]
     },
     "execution_count": 212,
     "metadata": {},
     "output_type": "execute_result"
    }
   ],
   "source": [
    "# data_num = pd.read_csv('djia.csv')\n",
    "data_num = web.DataReader('TATAMOTORS.NS', data_source='yahoo', start='2020-01-01', end='2021-01-14')\n",
    "data_num.reset_index(level=0, inplace=True)\n",
    "data_num.tail()"
   ]
  },
  {
   "cell_type": "code",
   "execution_count": 213,
   "metadata": {},
   "outputs": [],
   "source": [
    "data_num['NextOpen'] = 0\n",
    "# data_num['NextClose'] = 0\n",
    "data_num['NextHigh'] = 0"
   ]
  },
  {
   "cell_type": "code",
   "execution_count": 214,
   "metadata": {},
   "outputs": [
    {
     "data": {
      "text/html": [
       "<div>\n",
       "<style scoped>\n",
       "    .dataframe tbody tr th:only-of-type {\n",
       "        vertical-align: middle;\n",
       "    }\n",
       "\n",
       "    .dataframe tbody tr th {\n",
       "        vertical-align: top;\n",
       "    }\n",
       "\n",
       "    .dataframe thead th {\n",
       "        text-align: right;\n",
       "    }\n",
       "</style>\n",
       "<table border=\"1\" class=\"dataframe\">\n",
       "  <thead>\n",
       "    <tr style=\"text-align: right;\">\n",
       "      <th></th>\n",
       "      <th>Date</th>\n",
       "      <th>High</th>\n",
       "      <th>Low</th>\n",
       "      <th>Open</th>\n",
       "      <th>Close</th>\n",
       "      <th>Volume</th>\n",
       "      <th>Adj Close</th>\n",
       "      <th>NextOpen</th>\n",
       "      <th>NextHigh</th>\n",
       "    </tr>\n",
       "  </thead>\n",
       "  <tbody>\n",
       "    <tr>\n",
       "      <th>255</th>\n",
       "      <td>2021-01-08</td>\n",
       "      <td>201.500000</td>\n",
       "      <td>197.100006</td>\n",
       "      <td>198.750000</td>\n",
       "      <td>198.149994</td>\n",
       "      <td>53991568.0</td>\n",
       "      <td>198.149994</td>\n",
       "      <td>0</td>\n",
       "      <td>0</td>\n",
       "    </tr>\n",
       "    <tr>\n",
       "      <th>256</th>\n",
       "      <td>2021-01-11</td>\n",
       "      <td>225.399994</td>\n",
       "      <td>199.649994</td>\n",
       "      <td>199.899994</td>\n",
       "      <td>220.649994</td>\n",
       "      <td>182483100.0</td>\n",
       "      <td>220.649994</td>\n",
       "      <td>0</td>\n",
       "      <td>0</td>\n",
       "    </tr>\n",
       "    <tr>\n",
       "      <th>257</th>\n",
       "      <td>2021-01-12</td>\n",
       "      <td>252.399994</td>\n",
       "      <td>224.100006</td>\n",
       "      <td>227.000000</td>\n",
       "      <td>237.800003</td>\n",
       "      <td>390577839.0</td>\n",
       "      <td>237.800003</td>\n",
       "      <td>0</td>\n",
       "      <td>0</td>\n",
       "    </tr>\n",
       "    <tr>\n",
       "      <th>258</th>\n",
       "      <td>2021-01-13</td>\n",
       "      <td>248.800003</td>\n",
       "      <td>238.399994</td>\n",
       "      <td>242.899994</td>\n",
       "      <td>242.600006</td>\n",
       "      <td>164649387.0</td>\n",
       "      <td>242.600006</td>\n",
       "      <td>0</td>\n",
       "      <td>0</td>\n",
       "    </tr>\n",
       "    <tr>\n",
       "      <th>259</th>\n",
       "      <td>2021-01-14</td>\n",
       "      <td>249.800003</td>\n",
       "      <td>238.600006</td>\n",
       "      <td>242.850006</td>\n",
       "      <td>245.100006</td>\n",
       "      <td>86819519.0</td>\n",
       "      <td>245.100006</td>\n",
       "      <td>0</td>\n",
       "      <td>0</td>\n",
       "    </tr>\n",
       "  </tbody>\n",
       "</table>\n",
       "</div>"
      ],
      "text/plain": [
       "          Date        High         Low        Open       Close       Volume  \\\n",
       "255 2021-01-08  201.500000  197.100006  198.750000  198.149994   53991568.0   \n",
       "256 2021-01-11  225.399994  199.649994  199.899994  220.649994  182483100.0   \n",
       "257 2021-01-12  252.399994  224.100006  227.000000  237.800003  390577839.0   \n",
       "258 2021-01-13  248.800003  238.399994  242.899994  242.600006  164649387.0   \n",
       "259 2021-01-14  249.800003  238.600006  242.850006  245.100006   86819519.0   \n",
       "\n",
       "      Adj Close  NextOpen  NextHigh  \n",
       "255  198.149994         0         0  \n",
       "256  220.649994         0         0  \n",
       "257  237.800003         0         0  \n",
       "258  242.600006         0         0  \n",
       "259  245.100006         0         0  "
      ]
     },
     "execution_count": 214,
     "metadata": {},
     "output_type": "execute_result"
    }
   ],
   "source": [
    "data_num.tail()"
   ]
  },
  {
   "cell_type": "code",
   "execution_count": 215,
   "metadata": {},
   "outputs": [],
   "source": [
    "for i in range(0, len(data_num) - 1):\n",
    "    data_num.loc[i, 'NextOpen'] = data_num.loc[i+1, 'Open']   \n",
    "#     data_num.loc[i, 'NextClose'] = data_num.loc[i+1, 'Close']\n",
    "    data_num.loc[i, 'NextHigh'] = data_num.loc[i+1, 'High']\n",
    "\n"
   ]
  },
  {
   "cell_type": "code",
   "execution_count": 216,
   "metadata": {},
   "outputs": [
    {
     "data": {
      "text/html": [
       "<div>\n",
       "<style scoped>\n",
       "    .dataframe tbody tr th:only-of-type {\n",
       "        vertical-align: middle;\n",
       "    }\n",
       "\n",
       "    .dataframe tbody tr th {\n",
       "        vertical-align: top;\n",
       "    }\n",
       "\n",
       "    .dataframe thead th {\n",
       "        text-align: right;\n",
       "    }\n",
       "</style>\n",
       "<table border=\"1\" class=\"dataframe\">\n",
       "  <thead>\n",
       "    <tr style=\"text-align: right;\">\n",
       "      <th></th>\n",
       "      <th>Date</th>\n",
       "      <th>High</th>\n",
       "      <th>Low</th>\n",
       "      <th>Open</th>\n",
       "      <th>Close</th>\n",
       "      <th>Volume</th>\n",
       "      <th>Adj Close</th>\n",
       "      <th>NextOpen</th>\n",
       "      <th>NextHigh</th>\n",
       "    </tr>\n",
       "  </thead>\n",
       "  <tbody>\n",
       "    <tr>\n",
       "      <th>0</th>\n",
       "      <td>2020-01-01</td>\n",
       "      <td>186.699997</td>\n",
       "      <td>183.600006</td>\n",
       "      <td>185.149994</td>\n",
       "      <td>184.449997</td>\n",
       "      <td>25968357.0</td>\n",
       "      <td>184.449997</td>\n",
       "      <td>185.000000</td>\n",
       "      <td>194.699997</td>\n",
       "    </tr>\n",
       "    <tr>\n",
       "      <th>1</th>\n",
       "      <td>2020-01-02</td>\n",
       "      <td>194.699997</td>\n",
       "      <td>184.600006</td>\n",
       "      <td>185.000000</td>\n",
       "      <td>193.750000</td>\n",
       "      <td>57289863.0</td>\n",
       "      <td>193.750000</td>\n",
       "      <td>192.899994</td>\n",
       "      <td>195.649994</td>\n",
       "    </tr>\n",
       "    <tr>\n",
       "      <th>2</th>\n",
       "      <td>2020-01-03</td>\n",
       "      <td>195.649994</td>\n",
       "      <td>189.250000</td>\n",
       "      <td>192.899994</td>\n",
       "      <td>191.100006</td>\n",
       "      <td>47572728.0</td>\n",
       "      <td>191.100006</td>\n",
       "      <td>191.000000</td>\n",
       "      <td>191.000000</td>\n",
       "    </tr>\n",
       "    <tr>\n",
       "      <th>3</th>\n",
       "      <td>2020-01-06</td>\n",
       "      <td>191.000000</td>\n",
       "      <td>185.050003</td>\n",
       "      <td>191.000000</td>\n",
       "      <td>185.649994</td>\n",
       "      <td>28621212.0</td>\n",
       "      <td>185.649994</td>\n",
       "      <td>187.000000</td>\n",
       "      <td>189.399994</td>\n",
       "    </tr>\n",
       "    <tr>\n",
       "      <th>4</th>\n",
       "      <td>2020-01-07</td>\n",
       "      <td>189.399994</td>\n",
       "      <td>182.300003</td>\n",
       "      <td>187.000000</td>\n",
       "      <td>184.699997</td>\n",
       "      <td>34995035.0</td>\n",
       "      <td>184.699997</td>\n",
       "      <td>180.199997</td>\n",
       "      <td>184.199997</td>\n",
       "    </tr>\n",
       "    <tr>\n",
       "      <th>...</th>\n",
       "      <td>...</td>\n",
       "      <td>...</td>\n",
       "      <td>...</td>\n",
       "      <td>...</td>\n",
       "      <td>...</td>\n",
       "      <td>...</td>\n",
       "      <td>...</td>\n",
       "      <td>...</td>\n",
       "      <td>...</td>\n",
       "    </tr>\n",
       "    <tr>\n",
       "      <th>255</th>\n",
       "      <td>2021-01-08</td>\n",
       "      <td>201.500000</td>\n",
       "      <td>197.100006</td>\n",
       "      <td>198.750000</td>\n",
       "      <td>198.149994</td>\n",
       "      <td>53991568.0</td>\n",
       "      <td>198.149994</td>\n",
       "      <td>199.899994</td>\n",
       "      <td>225.399994</td>\n",
       "    </tr>\n",
       "    <tr>\n",
       "      <th>256</th>\n",
       "      <td>2021-01-11</td>\n",
       "      <td>225.399994</td>\n",
       "      <td>199.649994</td>\n",
       "      <td>199.899994</td>\n",
       "      <td>220.649994</td>\n",
       "      <td>182483100.0</td>\n",
       "      <td>220.649994</td>\n",
       "      <td>227.000000</td>\n",
       "      <td>252.399994</td>\n",
       "    </tr>\n",
       "    <tr>\n",
       "      <th>257</th>\n",
       "      <td>2021-01-12</td>\n",
       "      <td>252.399994</td>\n",
       "      <td>224.100006</td>\n",
       "      <td>227.000000</td>\n",
       "      <td>237.800003</td>\n",
       "      <td>390577839.0</td>\n",
       "      <td>237.800003</td>\n",
       "      <td>242.899994</td>\n",
       "      <td>248.800003</td>\n",
       "    </tr>\n",
       "    <tr>\n",
       "      <th>258</th>\n",
       "      <td>2021-01-13</td>\n",
       "      <td>248.800003</td>\n",
       "      <td>238.399994</td>\n",
       "      <td>242.899994</td>\n",
       "      <td>242.600006</td>\n",
       "      <td>164649387.0</td>\n",
       "      <td>242.600006</td>\n",
       "      <td>242.850006</td>\n",
       "      <td>249.800003</td>\n",
       "    </tr>\n",
       "    <tr>\n",
       "      <th>259</th>\n",
       "      <td>2021-01-14</td>\n",
       "      <td>249.800003</td>\n",
       "      <td>238.600006</td>\n",
       "      <td>242.850006</td>\n",
       "      <td>245.100006</td>\n",
       "      <td>86819519.0</td>\n",
       "      <td>245.100006</td>\n",
       "      <td>0.000000</td>\n",
       "      <td>0.000000</td>\n",
       "    </tr>\n",
       "  </tbody>\n",
       "</table>\n",
       "<p>260 rows × 9 columns</p>\n",
       "</div>"
      ],
      "text/plain": [
       "          Date        High         Low        Open       Close       Volume  \\\n",
       "0   2020-01-01  186.699997  183.600006  185.149994  184.449997   25968357.0   \n",
       "1   2020-01-02  194.699997  184.600006  185.000000  193.750000   57289863.0   \n",
       "2   2020-01-03  195.649994  189.250000  192.899994  191.100006   47572728.0   \n",
       "3   2020-01-06  191.000000  185.050003  191.000000  185.649994   28621212.0   \n",
       "4   2020-01-07  189.399994  182.300003  187.000000  184.699997   34995035.0   \n",
       "..         ...         ...         ...         ...         ...          ...   \n",
       "255 2021-01-08  201.500000  197.100006  198.750000  198.149994   53991568.0   \n",
       "256 2021-01-11  225.399994  199.649994  199.899994  220.649994  182483100.0   \n",
       "257 2021-01-12  252.399994  224.100006  227.000000  237.800003  390577839.0   \n",
       "258 2021-01-13  248.800003  238.399994  242.899994  242.600006  164649387.0   \n",
       "259 2021-01-14  249.800003  238.600006  242.850006  245.100006   86819519.0   \n",
       "\n",
       "      Adj Close    NextOpen    NextHigh  \n",
       "0    184.449997  185.000000  194.699997  \n",
       "1    193.750000  192.899994  195.649994  \n",
       "2    191.100006  191.000000  191.000000  \n",
       "3    185.649994  187.000000  189.399994  \n",
       "4    184.699997  180.199997  184.199997  \n",
       "..          ...         ...         ...  \n",
       "255  198.149994  199.899994  225.399994  \n",
       "256  220.649994  227.000000  252.399994  \n",
       "257  237.800003  242.899994  248.800003  \n",
       "258  242.600006  242.850006  249.800003  \n",
       "259  245.100006    0.000000    0.000000  \n",
       "\n",
       "[260 rows x 9 columns]"
      ]
     },
     "execution_count": 216,
     "metadata": {},
     "output_type": "execute_result"
    }
   ],
   "source": [
    "data_num"
   ]
  },
  {
   "cell_type": "code",
   "execution_count": 217,
   "metadata": {},
   "outputs": [],
   "source": [
    "data_num = data_num[:-1]"
   ]
  },
  {
   "cell_type": "code",
   "execution_count": 218,
   "metadata": {},
   "outputs": [
    {
     "data": {
      "text/html": [
       "<div>\n",
       "<style scoped>\n",
       "    .dataframe tbody tr th:only-of-type {\n",
       "        vertical-align: middle;\n",
       "    }\n",
       "\n",
       "    .dataframe tbody tr th {\n",
       "        vertical-align: top;\n",
       "    }\n",
       "\n",
       "    .dataframe thead th {\n",
       "        text-align: right;\n",
       "    }\n",
       "</style>\n",
       "<table border=\"1\" class=\"dataframe\">\n",
       "  <thead>\n",
       "    <tr style=\"text-align: right;\">\n",
       "      <th></th>\n",
       "      <th>Date</th>\n",
       "      <th>High</th>\n",
       "      <th>Low</th>\n",
       "      <th>Open</th>\n",
       "      <th>Close</th>\n",
       "      <th>Volume</th>\n",
       "      <th>Adj Close</th>\n",
       "      <th>NextOpen</th>\n",
       "      <th>NextHigh</th>\n",
       "    </tr>\n",
       "  </thead>\n",
       "  <tbody>\n",
       "    <tr>\n",
       "      <th>0</th>\n",
       "      <td>2020-01-01</td>\n",
       "      <td>186.699997</td>\n",
       "      <td>183.600006</td>\n",
       "      <td>185.149994</td>\n",
       "      <td>184.449997</td>\n",
       "      <td>25968357.0</td>\n",
       "      <td>184.449997</td>\n",
       "      <td>185.000000</td>\n",
       "      <td>194.699997</td>\n",
       "    </tr>\n",
       "    <tr>\n",
       "      <th>1</th>\n",
       "      <td>2020-01-02</td>\n",
       "      <td>194.699997</td>\n",
       "      <td>184.600006</td>\n",
       "      <td>185.000000</td>\n",
       "      <td>193.750000</td>\n",
       "      <td>57289863.0</td>\n",
       "      <td>193.750000</td>\n",
       "      <td>192.899994</td>\n",
       "      <td>195.649994</td>\n",
       "    </tr>\n",
       "    <tr>\n",
       "      <th>2</th>\n",
       "      <td>2020-01-03</td>\n",
       "      <td>195.649994</td>\n",
       "      <td>189.250000</td>\n",
       "      <td>192.899994</td>\n",
       "      <td>191.100006</td>\n",
       "      <td>47572728.0</td>\n",
       "      <td>191.100006</td>\n",
       "      <td>191.000000</td>\n",
       "      <td>191.000000</td>\n",
       "    </tr>\n",
       "    <tr>\n",
       "      <th>3</th>\n",
       "      <td>2020-01-06</td>\n",
       "      <td>191.000000</td>\n",
       "      <td>185.050003</td>\n",
       "      <td>191.000000</td>\n",
       "      <td>185.649994</td>\n",
       "      <td>28621212.0</td>\n",
       "      <td>185.649994</td>\n",
       "      <td>187.000000</td>\n",
       "      <td>189.399994</td>\n",
       "    </tr>\n",
       "    <tr>\n",
       "      <th>4</th>\n",
       "      <td>2020-01-07</td>\n",
       "      <td>189.399994</td>\n",
       "      <td>182.300003</td>\n",
       "      <td>187.000000</td>\n",
       "      <td>184.699997</td>\n",
       "      <td>34995035.0</td>\n",
       "      <td>184.699997</td>\n",
       "      <td>180.199997</td>\n",
       "      <td>184.199997</td>\n",
       "    </tr>\n",
       "    <tr>\n",
       "      <th>...</th>\n",
       "      <td>...</td>\n",
       "      <td>...</td>\n",
       "      <td>...</td>\n",
       "      <td>...</td>\n",
       "      <td>...</td>\n",
       "      <td>...</td>\n",
       "      <td>...</td>\n",
       "      <td>...</td>\n",
       "      <td>...</td>\n",
       "    </tr>\n",
       "    <tr>\n",
       "      <th>254</th>\n",
       "      <td>2021-01-07</td>\n",
       "      <td>200.350006</td>\n",
       "      <td>195.100006</td>\n",
       "      <td>197.000000</td>\n",
       "      <td>196.750000</td>\n",
       "      <td>66024848.0</td>\n",
       "      <td>196.750000</td>\n",
       "      <td>198.750000</td>\n",
       "      <td>201.500000</td>\n",
       "    </tr>\n",
       "    <tr>\n",
       "      <th>255</th>\n",
       "      <td>2021-01-08</td>\n",
       "      <td>201.500000</td>\n",
       "      <td>197.100006</td>\n",
       "      <td>198.750000</td>\n",
       "      <td>198.149994</td>\n",
       "      <td>53991568.0</td>\n",
       "      <td>198.149994</td>\n",
       "      <td>199.899994</td>\n",
       "      <td>225.399994</td>\n",
       "    </tr>\n",
       "    <tr>\n",
       "      <th>256</th>\n",
       "      <td>2021-01-11</td>\n",
       "      <td>225.399994</td>\n",
       "      <td>199.649994</td>\n",
       "      <td>199.899994</td>\n",
       "      <td>220.649994</td>\n",
       "      <td>182483100.0</td>\n",
       "      <td>220.649994</td>\n",
       "      <td>227.000000</td>\n",
       "      <td>252.399994</td>\n",
       "    </tr>\n",
       "    <tr>\n",
       "      <th>257</th>\n",
       "      <td>2021-01-12</td>\n",
       "      <td>252.399994</td>\n",
       "      <td>224.100006</td>\n",
       "      <td>227.000000</td>\n",
       "      <td>237.800003</td>\n",
       "      <td>390577839.0</td>\n",
       "      <td>237.800003</td>\n",
       "      <td>242.899994</td>\n",
       "      <td>248.800003</td>\n",
       "    </tr>\n",
       "    <tr>\n",
       "      <th>258</th>\n",
       "      <td>2021-01-13</td>\n",
       "      <td>248.800003</td>\n",
       "      <td>238.399994</td>\n",
       "      <td>242.899994</td>\n",
       "      <td>242.600006</td>\n",
       "      <td>164649387.0</td>\n",
       "      <td>242.600006</td>\n",
       "      <td>242.850006</td>\n",
       "      <td>249.800003</td>\n",
       "    </tr>\n",
       "  </tbody>\n",
       "</table>\n",
       "<p>259 rows × 9 columns</p>\n",
       "</div>"
      ],
      "text/plain": [
       "          Date        High         Low        Open       Close       Volume  \\\n",
       "0   2020-01-01  186.699997  183.600006  185.149994  184.449997   25968357.0   \n",
       "1   2020-01-02  194.699997  184.600006  185.000000  193.750000   57289863.0   \n",
       "2   2020-01-03  195.649994  189.250000  192.899994  191.100006   47572728.0   \n",
       "3   2020-01-06  191.000000  185.050003  191.000000  185.649994   28621212.0   \n",
       "4   2020-01-07  189.399994  182.300003  187.000000  184.699997   34995035.0   \n",
       "..         ...         ...         ...         ...         ...          ...   \n",
       "254 2021-01-07  200.350006  195.100006  197.000000  196.750000   66024848.0   \n",
       "255 2021-01-08  201.500000  197.100006  198.750000  198.149994   53991568.0   \n",
       "256 2021-01-11  225.399994  199.649994  199.899994  220.649994  182483100.0   \n",
       "257 2021-01-12  252.399994  224.100006  227.000000  237.800003  390577839.0   \n",
       "258 2021-01-13  248.800003  238.399994  242.899994  242.600006  164649387.0   \n",
       "\n",
       "      Adj Close    NextOpen    NextHigh  \n",
       "0    184.449997  185.000000  194.699997  \n",
       "1    193.750000  192.899994  195.649994  \n",
       "2    191.100006  191.000000  191.000000  \n",
       "3    185.649994  187.000000  189.399994  \n",
       "4    184.699997  180.199997  184.199997  \n",
       "..          ...         ...         ...  \n",
       "254  196.750000  198.750000  201.500000  \n",
       "255  198.149994  199.899994  225.399994  \n",
       "256  220.649994  227.000000  252.399994  \n",
       "257  237.800003  242.899994  248.800003  \n",
       "258  242.600006  242.850006  249.800003  \n",
       "\n",
       "[259 rows x 9 columns]"
      ]
     },
     "execution_count": 218,
     "metadata": {},
     "output_type": "execute_result"
    }
   ],
   "source": [
    "data_num"
   ]
  },
  {
   "cell_type": "code",
   "execution_count": 219,
   "metadata": {},
   "outputs": [],
   "source": [
    "from sklearn.model_selection import train_test_split"
   ]
  },
  {
   "cell_type": "code",
   "execution_count": 220,
   "metadata": {
    "scrolled": false
   },
   "outputs": [
    {
     "data": {
      "text/plain": [
       "0.9921288947519323"
      ]
     },
     "execution_count": 220,
     "metadata": {},
     "output_type": "execute_result"
    }
   ],
   "source": [
    "X = data_num.drop(['NextHigh','Date','High','Low','Adj Close','Volume'],axis=1)\n",
    "# X = data_num.drop(['Close','Adj Close'],axis=1)\n",
    "\n",
    "y = data_num['NextHigh']\n",
    "X_train, X_test, y_train, y_test = train_test_split(X,y)\n",
    "\n",
    "model.fit(X_train, y_train)\n",
    "model.score(X_test,y_test)"
   ]
  },
  {
   "cell_type": "code",
   "execution_count": 221,
   "metadata": {},
   "outputs": [],
   "source": [
    "y_pred = model.predict(X_test)"
   ]
  },
  {
   "cell_type": "code",
   "execution_count": 222,
   "metadata": {},
   "outputs": [
    {
     "data": {
      "image/png": "[encoded data removed]",
      "text/plain": [
       "<Figure size 432x288 with 1 Axes>"
      ]
     },
     "metadata": {
      "needs_background": "light"
     },
     "output_type": "display_data"
    }
   ],
   "source": [
    "import matplotlib.pyplot as plt\n",
    "plt.plot(y_test,y_pred,marker='o',linestyle='',label=\"Predicted\")\n",
    "plt.plot(y_test,y_test, label=\"Original\")\n",
    "\n",
    "plt.legend(loc='best')\n",
    "plt.grid()\n",
    "plt.show()"
   ]
  },
  {
   "cell_type": "code",
   "execution_count": 223,
   "metadata": {},
   "outputs": [
    {
     "data": {
      "text/html": [
       "<div>\n",
       "<style scoped>\n",
       "    .dataframe tbody tr th:only-of-type {\n",
       "        vertical-align: middle;\n",
       "    }\n",
       "\n",
       "    .dataframe tbody tr th {\n",
       "        vertical-align: top;\n",
       "    }\n",
       "\n",
       "    .dataframe thead th {\n",
       "        text-align: right;\n",
       "    }\n",
       "</style>\n",
       "<table border=\"1\" class=\"dataframe\">\n",
       "  <thead>\n",
       "    <tr style=\"text-align: right;\">\n",
       "      <th></th>\n",
       "      <th>Open</th>\n",
       "      <th>Close</th>\n",
       "      <th>NextOpen</th>\n",
       "    </tr>\n",
       "  </thead>\n",
       "  <tbody>\n",
       "    <tr>\n",
       "      <th>71</th>\n",
       "      <td>78.300003</td>\n",
       "      <td>76.849998</td>\n",
       "      <td>76.849998</td>\n",
       "    </tr>\n",
       "    <tr>\n",
       "      <th>160</th>\n",
       "      <td>122.000000</td>\n",
       "      <td>121.199997</td>\n",
       "      <td>121.800003</td>\n",
       "    </tr>\n",
       "    <tr>\n",
       "      <th>232</th>\n",
       "      <td>184.449997</td>\n",
       "      <td>183.550003</td>\n",
       "      <td>184.949997</td>\n",
       "    </tr>\n",
       "    <tr>\n",
       "      <th>158</th>\n",
       "      <td>123.449997</td>\n",
       "      <td>121.699997</td>\n",
       "      <td>124.199997</td>\n",
       "    </tr>\n",
       "    <tr>\n",
       "      <th>208</th>\n",
       "      <td>133.199997</td>\n",
       "      <td>132.649994</td>\n",
       "      <td>133.649994</td>\n",
       "    </tr>\n",
       "  </tbody>\n",
       "</table>\n",
       "</div>"
      ],
      "text/plain": [
       "           Open       Close    NextOpen\n",
       "71    78.300003   76.849998   76.849998\n",
       "160  122.000000  121.199997  121.800003\n",
       "232  184.449997  183.550003  184.949997\n",
       "158  123.449997  121.699997  124.199997\n",
       "208  133.199997  132.649994  133.649994"
      ]
     },
     "execution_count": 223,
     "metadata": {},
     "output_type": "execute_result"
    }
   ],
   "source": [
    "X_test.tail()"
   ]
  },
  {
   "cell_type": "code",
   "execution_count": 224,
   "metadata": {},
   "outputs": [],
   "source": [
    "predicted_close = model.predict([[712.0,695.650024,695.000000]]) #12 jan"
   ]
  },
  {
   "cell_type": "code",
   "execution_count": 225,
   "metadata": {},
   "outputs": [
    {
     "data": {
      "text/plain": [
       "array([703.80033136])"
      ]
     },
     "execution_count": 225,
     "metadata": {},
     "output_type": "execute_result"
    }
   ],
   "source": [
    "predicted_close"
   ]
  },
  {
   "cell_type": "code",
   "execution_count": 226,
   "metadata": {},
   "outputs": [],
   "source": [
    "predicted_close = model.predict([[242.850006,245.100006,246.000000]]) #15 jan"
   ]
  },
  {
   "cell_type": "code",
   "execution_count": 227,
   "metadata": {},
   "outputs": [
    {
     "data": {
      "text/plain": [
       "251.15996802206422"
      ]
     },
     "execution_count": 227,
     "metadata": {},
     "output_type": "execute_result"
    }
   ],
   "source": [
    "predicted_close[0]"
   ]
  },
  {
   "cell_type": "code",
   "execution_count": 147,
   "metadata": {},
   "outputs": [
    {
     "name": "stdout",
     "output_type": "stream",
     "text": [
      "200\n",
      "2177.876300000935\n"
     ]
    }
   ],
   "source": [
    "stocks = int(input())\n",
    "print(abs(stocks * (701.45 - predicted_close[0])))"
   ]
  },
  {
   "cell_type": "code",
   "execution_count": 229,
   "metadata": {},
   "outputs": [],
   "source": [
    "A = 80000/242.85\n"
   ]
  },
  {
   "cell_type": "code",
   "execution_count": 231,
   "metadata": {},
   "outputs": [
    {
     "data": {
      "text/plain": [
       "6259.007617871114"
      ]
     },
     "execution_count": 231,
     "metadata": {},
     "output_type": "execute_result"
    }
   ],
   "source": [
    "A * 19\n"
   ]
  },
  {
   "cell_type": "code",
   "execution_count": null,
   "metadata": {},
   "outputs": [],
   "source": []
  }
 ],
 "metadata": {
  "kernelspec": {
   "display_name": "Python 3",
   "language": "python",
   "name": "python3"
  },
  "language_info": {
   "codemirror_mode": {
    "name": "ipython",
    "version": 3
   },
   "file_extension": ".py",
   "mimetype": "text/x-python",
   "name": "python",
   "nbconvert_exporter": "python",
   "pygments_lexer": "ipython3",
   "version": "3.8.3"
  }
 },
 "nbformat": 4,
 "nbformat_minor": 4
}
