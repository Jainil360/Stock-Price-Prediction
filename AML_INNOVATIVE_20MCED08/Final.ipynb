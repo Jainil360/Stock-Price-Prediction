{
 "cells": [
  {
   "cell_type": "markdown",
   "metadata": {},
   "source": [
    "# Stock Market data prediction using Historical Data"
   ]
  },
  {
   "cell_type": "markdown",
   "metadata": {},
   "source": [
    "## Importing Libraries "
   ]
  },
  {
   "cell_type": "code",
   "execution_count": 154,
   "metadata": {},
   "outputs": [],
   "source": [
    "import pandas as pd\n",
    "from sklearn.linear_model import LinearRegression,LogisticRegression\n",
    "import pandas_datareader as web"
   ]
  },
  {
   "cell_type": "markdown",
   "metadata": {},
   "source": [
    "# Training and Testing for Different Stock (TATA STEEL)"
   ]
  },
  {
   "cell_type": "markdown",
   "metadata": {},
   "source": [
    "# Predict next day's close price (Experimental)"
   ]
  },
  {
   "cell_type": "code",
   "execution_count": 171,
   "metadata": {},
   "outputs": [
    {
     "data": {
      "text/html": [
       "<div>\n",
       "<style scoped>\n",
       "    .dataframe tbody tr th:only-of-type {\n",
       "        vertical-align: middle;\n",
       "    }\n",
       "\n",
       "    .dataframe tbody tr th {\n",
       "        vertical-align: top;\n",
       "    }\n",
       "\n",
       "    .dataframe thead th {\n",
       "        text-align: right;\n",
       "    }\n",
       "</style>\n",
       "<table border=\"1\" class=\"dataframe\">\n",
       "  <thead>\n",
       "    <tr style=\"text-align: right;\">\n",
       "      <th></th>\n",
       "      <th>Date</th>\n",
       "      <th>High</th>\n",
       "      <th>Low</th>\n",
       "      <th>Open</th>\n",
       "      <th>Close</th>\n",
       "      <th>Volume</th>\n",
       "      <th>Adj Close</th>\n",
       "    </tr>\n",
       "  </thead>\n",
       "  <tbody>\n",
       "    <tr>\n",
       "      <th>260</th>\n",
       "      <td>2021-01-15</td>\n",
       "      <td>3270.850098</td>\n",
       "      <td>3174.000000</td>\n",
       "      <td>3250.000000</td>\n",
       "      <td>3203.000000</td>\n",
       "      <td>1199320.0</td>\n",
       "      <td>3203.000000</td>\n",
       "    </tr>\n",
       "    <tr>\n",
       "      <th>261</th>\n",
       "      <td>2021-01-18</td>\n",
       "      <td>3217.550049</td>\n",
       "      <td>3082.250000</td>\n",
       "      <td>3200.000000</td>\n",
       "      <td>3163.149902</td>\n",
       "      <td>1280163.0</td>\n",
       "      <td>3163.149902</td>\n",
       "    </tr>\n",
       "    <tr>\n",
       "      <th>262</th>\n",
       "      <td>2021-01-19</td>\n",
       "      <td>3240.750000</td>\n",
       "      <td>3170.500000</td>\n",
       "      <td>3170.500000</td>\n",
       "      <td>3232.899902</td>\n",
       "      <td>770832.0</td>\n",
       "      <td>3232.899902</td>\n",
       "    </tr>\n",
       "    <tr>\n",
       "      <th>263</th>\n",
       "      <td>2021-01-20</td>\n",
       "      <td>3292.500000</td>\n",
       "      <td>3230.300049</td>\n",
       "      <td>3239.000000</td>\n",
       "      <td>3275.600098</td>\n",
       "      <td>841752.0</td>\n",
       "      <td>3275.600098</td>\n",
       "    </tr>\n",
       "    <tr>\n",
       "      <th>264</th>\n",
       "      <td>2021-01-21</td>\n",
       "      <td>3346.000000</td>\n",
       "      <td>3219.699951</td>\n",
       "      <td>3275.600098</td>\n",
       "      <td>3247.300049</td>\n",
       "      <td>1300181.0</td>\n",
       "      <td>3247.300049</td>\n",
       "    </tr>\n",
       "  </tbody>\n",
       "</table>\n",
       "</div>"
      ],
      "text/plain": [
       "          Date         High          Low         Open        Close     Volume  \\\n",
       "260 2021-01-15  3270.850098  3174.000000  3250.000000  3203.000000  1199320.0   \n",
       "261 2021-01-18  3217.550049  3082.250000  3200.000000  3163.149902  1280163.0   \n",
       "262 2021-01-19  3240.750000  3170.500000  3170.500000  3232.899902   770832.0   \n",
       "263 2021-01-20  3292.500000  3230.300049  3239.000000  3275.600098   841752.0   \n",
       "264 2021-01-21  3346.000000  3219.699951  3275.600098  3247.300049  1300181.0   \n",
       "\n",
       "       Adj Close  \n",
       "260  3203.000000  \n",
       "261  3163.149902  \n",
       "262  3232.899902  \n",
       "263  3275.600098  \n",
       "264  3247.300049  "
      ]
     },
     "execution_count": 171,
     "metadata": {},
     "output_type": "execute_result"
    }
   ],
   "source": [
    "# data_num = pd.read_csv('djia.csv')\n",
    "data_num = web.DataReader('HEROMOTOCO.NS', data_source='yahoo', start='2020-01-01', end='2021-01-21')\n",
    "data_num.reset_index(level=0, inplace=True)\n",
    "data_num.tail()"
   ]
  },
  {
   "cell_type": "code",
   "execution_count": 172,
   "metadata": {},
   "outputs": [],
   "source": [
    "openP = data_num.tail(1)['Open']\n",
    "closeP = data_num.tail(1)['Close']"
   ]
  },
  {
   "cell_type": "code",
   "execution_count": 173,
   "metadata": {},
   "outputs": [],
   "source": [
    "data_num['NextOpen'] = 0\n",
    "# data_num['NextClose'] = 0\n",
    "data_num['NextHigh'] = 0\n",
    "data_num['NextLow'] = 0"
   ]
  },
  {
   "cell_type": "code",
   "execution_count": 174,
   "metadata": {},
   "outputs": [
    {
     "data": {
      "text/html": [
       "<div>\n",
       "<style scoped>\n",
       "    .dataframe tbody tr th:only-of-type {\n",
       "        vertical-align: middle;\n",
       "    }\n",
       "\n",
       "    .dataframe tbody tr th {\n",
       "        vertical-align: top;\n",
       "    }\n",
       "\n",
       "    .dataframe thead th {\n",
       "        text-align: right;\n",
       "    }\n",
       "</style>\n",
       "<table border=\"1\" class=\"dataframe\">\n",
       "  <thead>\n",
       "    <tr style=\"text-align: right;\">\n",
       "      <th></th>\n",
       "      <th>Date</th>\n",
       "      <th>High</th>\n",
       "      <th>Low</th>\n",
       "      <th>Open</th>\n",
       "      <th>Close</th>\n",
       "      <th>Volume</th>\n",
       "      <th>Adj Close</th>\n",
       "      <th>NextOpen</th>\n",
       "      <th>NextHigh</th>\n",
       "      <th>NextLow</th>\n",
       "    </tr>\n",
       "  </thead>\n",
       "  <tbody>\n",
       "    <tr>\n",
       "      <th>260</th>\n",
       "      <td>2021-01-15</td>\n",
       "      <td>3270.850098</td>\n",
       "      <td>3174.000000</td>\n",
       "      <td>3250.000000</td>\n",
       "      <td>3203.000000</td>\n",
       "      <td>1199320.0</td>\n",
       "      <td>3203.000000</td>\n",
       "      <td>0</td>\n",
       "      <td>0</td>\n",
       "      <td>0</td>\n",
       "    </tr>\n",
       "    <tr>\n",
       "      <th>261</th>\n",
       "      <td>2021-01-18</td>\n",
       "      <td>3217.550049</td>\n",
       "      <td>3082.250000</td>\n",
       "      <td>3200.000000</td>\n",
       "      <td>3163.149902</td>\n",
       "      <td>1280163.0</td>\n",
       "      <td>3163.149902</td>\n",
       "      <td>0</td>\n",
       "      <td>0</td>\n",
       "      <td>0</td>\n",
       "    </tr>\n",
       "    <tr>\n",
       "      <th>262</th>\n",
       "      <td>2021-01-19</td>\n",
       "      <td>3240.750000</td>\n",
       "      <td>3170.500000</td>\n",
       "      <td>3170.500000</td>\n",
       "      <td>3232.899902</td>\n",
       "      <td>770832.0</td>\n",
       "      <td>3232.899902</td>\n",
       "      <td>0</td>\n",
       "      <td>0</td>\n",
       "      <td>0</td>\n",
       "    </tr>\n",
       "    <tr>\n",
       "      <th>263</th>\n",
       "      <td>2021-01-20</td>\n",
       "      <td>3292.500000</td>\n",
       "      <td>3230.300049</td>\n",
       "      <td>3239.000000</td>\n",
       "      <td>3275.600098</td>\n",
       "      <td>841752.0</td>\n",
       "      <td>3275.600098</td>\n",
       "      <td>0</td>\n",
       "      <td>0</td>\n",
       "      <td>0</td>\n",
       "    </tr>\n",
       "    <tr>\n",
       "      <th>264</th>\n",
       "      <td>2021-01-21</td>\n",
       "      <td>3346.000000</td>\n",
       "      <td>3219.699951</td>\n",
       "      <td>3275.600098</td>\n",
       "      <td>3247.300049</td>\n",
       "      <td>1300181.0</td>\n",
       "      <td>3247.300049</td>\n",
       "      <td>0</td>\n",
       "      <td>0</td>\n",
       "      <td>0</td>\n",
       "    </tr>\n",
       "  </tbody>\n",
       "</table>\n",
       "</div>"
      ],
      "text/plain": [
       "          Date         High          Low         Open        Close     Volume  \\\n",
       "260 2021-01-15  3270.850098  3174.000000  3250.000000  3203.000000  1199320.0   \n",
       "261 2021-01-18  3217.550049  3082.250000  3200.000000  3163.149902  1280163.0   \n",
       "262 2021-01-19  3240.750000  3170.500000  3170.500000  3232.899902   770832.0   \n",
       "263 2021-01-20  3292.500000  3230.300049  3239.000000  3275.600098   841752.0   \n",
       "264 2021-01-21  3346.000000  3219.699951  3275.600098  3247.300049  1300181.0   \n",
       "\n",
       "       Adj Close  NextOpen  NextHigh  NextLow  \n",
       "260  3203.000000         0         0        0  \n",
       "261  3163.149902         0         0        0  \n",
       "262  3232.899902         0         0        0  \n",
       "263  3275.600098         0         0        0  \n",
       "264  3247.300049         0         0        0  "
      ]
     },
     "execution_count": 174,
     "metadata": {},
     "output_type": "execute_result"
    }
   ],
   "source": [
    "data_num.tail()"
   ]
  },
  {
   "cell_type": "code",
   "execution_count": 175,
   "metadata": {},
   "outputs": [],
   "source": [
    "for i in range(0, len(data_num) - 1):\n",
    "    data_num.loc[i, 'NextOpen'] = data_num.loc[i+1, 'Open']   \n",
    "#     data_num.loc[i, 'NextClose'] = data_num.loc[i+1, 'Close']\n",
    "    data_num.loc[i, 'NextHigh'] = data_num.loc[i+1, 'High']\n",
    "    data_num.loc[i, 'NextLow'] = data_num.loc[i+1, 'Low']\n",
    "\n",
    "\n"
   ]
  },
  {
   "cell_type": "code",
   "execution_count": 176,
   "metadata": {},
   "outputs": [
    {
     "data": {
      "text/html": [
       "<div>\n",
       "<style scoped>\n",
       "    .dataframe tbody tr th:only-of-type {\n",
       "        vertical-align: middle;\n",
       "    }\n",
       "\n",
       "    .dataframe tbody tr th {\n",
       "        vertical-align: top;\n",
       "    }\n",
       "\n",
       "    .dataframe thead th {\n",
       "        text-align: right;\n",
       "    }\n",
       "</style>\n",
       "<table border=\"1\" class=\"dataframe\">\n",
       "  <thead>\n",
       "    <tr style=\"text-align: right;\">\n",
       "      <th></th>\n",
       "      <th>Date</th>\n",
       "      <th>High</th>\n",
       "      <th>Low</th>\n",
       "      <th>Open</th>\n",
       "      <th>Close</th>\n",
       "      <th>Volume</th>\n",
       "      <th>Adj Close</th>\n",
       "      <th>NextOpen</th>\n",
       "      <th>NextHigh</th>\n",
       "      <th>NextLow</th>\n",
       "    </tr>\n",
       "  </thead>\n",
       "  <tbody>\n",
       "    <tr>\n",
       "      <th>0</th>\n",
       "      <td>2020-01-01</td>\n",
       "      <td>2462.550049</td>\n",
       "      <td>2427.350098</td>\n",
       "      <td>2454.899902</td>\n",
       "      <td>2432.550049</td>\n",
       "      <td>314519.0</td>\n",
       "      <td>2344.180176</td>\n",
       "      <td>2447.800049</td>\n",
       "      <td>2452.000000</td>\n",
       "      <td>2417.050049</td>\n",
       "    </tr>\n",
       "    <tr>\n",
       "      <th>1</th>\n",
       "      <td>2020-01-02</td>\n",
       "      <td>2452.000000</td>\n",
       "      <td>2417.050049</td>\n",
       "      <td>2447.800049</td>\n",
       "      <td>2429.449951</td>\n",
       "      <td>546945.0</td>\n",
       "      <td>2341.192627</td>\n",
       "      <td>2420.000000</td>\n",
       "      <td>2449.000000</td>\n",
       "      <td>2415.000000</td>\n",
       "    </tr>\n",
       "    <tr>\n",
       "      <th>2</th>\n",
       "      <td>2020-01-03</td>\n",
       "      <td>2449.000000</td>\n",
       "      <td>2415.000000</td>\n",
       "      <td>2420.000000</td>\n",
       "      <td>2432.350098</td>\n",
       "      <td>544720.0</td>\n",
       "      <td>2343.987549</td>\n",
       "      <td>2428.949951</td>\n",
       "      <td>2428.949951</td>\n",
       "      <td>2360.050049</td>\n",
       "    </tr>\n",
       "    <tr>\n",
       "      <th>3</th>\n",
       "      <td>2020-01-06</td>\n",
       "      <td>2428.949951</td>\n",
       "      <td>2360.050049</td>\n",
       "      <td>2428.949951</td>\n",
       "      <td>2368.149902</td>\n",
       "      <td>624665.0</td>\n",
       "      <td>2282.119629</td>\n",
       "      <td>2378.000000</td>\n",
       "      <td>2399.899902</td>\n",
       "      <td>2337.000000</td>\n",
       "    </tr>\n",
       "    <tr>\n",
       "      <th>4</th>\n",
       "      <td>2020-01-07</td>\n",
       "      <td>2399.899902</td>\n",
       "      <td>2337.000000</td>\n",
       "      <td>2378.000000</td>\n",
       "      <td>2348.050049</td>\n",
       "      <td>620687.0</td>\n",
       "      <td>2262.750000</td>\n",
       "      <td>2322.000000</td>\n",
       "      <td>2345.050049</td>\n",
       "      <td>2310.550049</td>\n",
       "    </tr>\n",
       "    <tr>\n",
       "      <th>...</th>\n",
       "      <td>...</td>\n",
       "      <td>...</td>\n",
       "      <td>...</td>\n",
       "      <td>...</td>\n",
       "      <td>...</td>\n",
       "      <td>...</td>\n",
       "      <td>...</td>\n",
       "      <td>...</td>\n",
       "      <td>...</td>\n",
       "      <td>...</td>\n",
       "    </tr>\n",
       "    <tr>\n",
       "      <th>260</th>\n",
       "      <td>2021-01-15</td>\n",
       "      <td>3270.850098</td>\n",
       "      <td>3174.000000</td>\n",
       "      <td>3250.000000</td>\n",
       "      <td>3203.000000</td>\n",
       "      <td>1199320.0</td>\n",
       "      <td>3203.000000</td>\n",
       "      <td>3200.000000</td>\n",
       "      <td>3217.550049</td>\n",
       "      <td>3082.250000</td>\n",
       "    </tr>\n",
       "    <tr>\n",
       "      <th>261</th>\n",
       "      <td>2021-01-18</td>\n",
       "      <td>3217.550049</td>\n",
       "      <td>3082.250000</td>\n",
       "      <td>3200.000000</td>\n",
       "      <td>3163.149902</td>\n",
       "      <td>1280163.0</td>\n",
       "      <td>3163.149902</td>\n",
       "      <td>3170.500000</td>\n",
       "      <td>3240.750000</td>\n",
       "      <td>3170.500000</td>\n",
       "    </tr>\n",
       "    <tr>\n",
       "      <th>262</th>\n",
       "      <td>2021-01-19</td>\n",
       "      <td>3240.750000</td>\n",
       "      <td>3170.500000</td>\n",
       "      <td>3170.500000</td>\n",
       "      <td>3232.899902</td>\n",
       "      <td>770832.0</td>\n",
       "      <td>3232.899902</td>\n",
       "      <td>3239.000000</td>\n",
       "      <td>3292.500000</td>\n",
       "      <td>3230.300049</td>\n",
       "    </tr>\n",
       "    <tr>\n",
       "      <th>263</th>\n",
       "      <td>2021-01-20</td>\n",
       "      <td>3292.500000</td>\n",
       "      <td>3230.300049</td>\n",
       "      <td>3239.000000</td>\n",
       "      <td>3275.600098</td>\n",
       "      <td>841752.0</td>\n",
       "      <td>3275.600098</td>\n",
       "      <td>3275.600098</td>\n",
       "      <td>3346.000000</td>\n",
       "      <td>3219.699951</td>\n",
       "    </tr>\n",
       "    <tr>\n",
       "      <th>264</th>\n",
       "      <td>2021-01-21</td>\n",
       "      <td>3346.000000</td>\n",
       "      <td>3219.699951</td>\n",
       "      <td>3275.600098</td>\n",
       "      <td>3247.300049</td>\n",
       "      <td>1300181.0</td>\n",
       "      <td>3247.300049</td>\n",
       "      <td>0.000000</td>\n",
       "      <td>0.000000</td>\n",
       "      <td>0.000000</td>\n",
       "    </tr>\n",
       "  </tbody>\n",
       "</table>\n",
       "<p>265 rows × 10 columns</p>\n",
       "</div>"
      ],
      "text/plain": [
       "          Date         High          Low         Open        Close     Volume  \\\n",
       "0   2020-01-01  2462.550049  2427.350098  2454.899902  2432.550049   314519.0   \n",
       "1   2020-01-02  2452.000000  2417.050049  2447.800049  2429.449951   546945.0   \n",
       "2   2020-01-03  2449.000000  2415.000000  2420.000000  2432.350098   544720.0   \n",
       "3   2020-01-06  2428.949951  2360.050049  2428.949951  2368.149902   624665.0   \n",
       "4   2020-01-07  2399.899902  2337.000000  2378.000000  2348.050049   620687.0   \n",
       "..         ...          ...          ...          ...          ...        ...   \n",
       "260 2021-01-15  3270.850098  3174.000000  3250.000000  3203.000000  1199320.0   \n",
       "261 2021-01-18  3217.550049  3082.250000  3200.000000  3163.149902  1280163.0   \n",
       "262 2021-01-19  3240.750000  3170.500000  3170.500000  3232.899902   770832.0   \n",
       "263 2021-01-20  3292.500000  3230.300049  3239.000000  3275.600098   841752.0   \n",
       "264 2021-01-21  3346.000000  3219.699951  3275.600098  3247.300049  1300181.0   \n",
       "\n",
       "       Adj Close     NextOpen     NextHigh      NextLow  \n",
       "0    2344.180176  2447.800049  2452.000000  2417.050049  \n",
       "1    2341.192627  2420.000000  2449.000000  2415.000000  \n",
       "2    2343.987549  2428.949951  2428.949951  2360.050049  \n",
       "3    2282.119629  2378.000000  2399.899902  2337.000000  \n",
       "4    2262.750000  2322.000000  2345.050049  2310.550049  \n",
       "..           ...          ...          ...          ...  \n",
       "260  3203.000000  3200.000000  3217.550049  3082.250000  \n",
       "261  3163.149902  3170.500000  3240.750000  3170.500000  \n",
       "262  3232.899902  3239.000000  3292.500000  3230.300049  \n",
       "263  3275.600098  3275.600098  3346.000000  3219.699951  \n",
       "264  3247.300049     0.000000     0.000000     0.000000  \n",
       "\n",
       "[265 rows x 10 columns]"
      ]
     },
     "execution_count": 176,
     "metadata": {},
     "output_type": "execute_result"
    }
   ],
   "source": [
    "data_num"
   ]
  },
  {
   "cell_type": "code",
   "execution_count": 177,
   "metadata": {},
   "outputs": [],
   "source": [
    "data_num = data_num[:-1]"
   ]
  },
  {
   "cell_type": "code",
   "execution_count": 178,
   "metadata": {},
   "outputs": [
    {
     "data": {
      "text/html": [
       "<div>\n",
       "<style scoped>\n",
       "    .dataframe tbody tr th:only-of-type {\n",
       "        vertical-align: middle;\n",
       "    }\n",
       "\n",
       "    .dataframe tbody tr th {\n",
       "        vertical-align: top;\n",
       "    }\n",
       "\n",
       "    .dataframe thead th {\n",
       "        text-align: right;\n",
       "    }\n",
       "</style>\n",
       "<table border=\"1\" class=\"dataframe\">\n",
       "  <thead>\n",
       "    <tr style=\"text-align: right;\">\n",
       "      <th></th>\n",
       "      <th>Date</th>\n",
       "      <th>High</th>\n",
       "      <th>Low</th>\n",
       "      <th>Open</th>\n",
       "      <th>Close</th>\n",
       "      <th>Volume</th>\n",
       "      <th>Adj Close</th>\n",
       "      <th>NextOpen</th>\n",
       "      <th>NextHigh</th>\n",
       "      <th>NextLow</th>\n",
       "    </tr>\n",
       "  </thead>\n",
       "  <tbody>\n",
       "    <tr>\n",
       "      <th>0</th>\n",
       "      <td>2020-01-01</td>\n",
       "      <td>2462.550049</td>\n",
       "      <td>2427.350098</td>\n",
       "      <td>2454.899902</td>\n",
       "      <td>2432.550049</td>\n",
       "      <td>314519.0</td>\n",
       "      <td>2344.180176</td>\n",
       "      <td>2447.800049</td>\n",
       "      <td>2452.000000</td>\n",
       "      <td>2417.050049</td>\n",
       "    </tr>\n",
       "    <tr>\n",
       "      <th>1</th>\n",
       "      <td>2020-01-02</td>\n",
       "      <td>2452.000000</td>\n",
       "      <td>2417.050049</td>\n",
       "      <td>2447.800049</td>\n",
       "      <td>2429.449951</td>\n",
       "      <td>546945.0</td>\n",
       "      <td>2341.192627</td>\n",
       "      <td>2420.000000</td>\n",
       "      <td>2449.000000</td>\n",
       "      <td>2415.000000</td>\n",
       "    </tr>\n",
       "    <tr>\n",
       "      <th>2</th>\n",
       "      <td>2020-01-03</td>\n",
       "      <td>2449.000000</td>\n",
       "      <td>2415.000000</td>\n",
       "      <td>2420.000000</td>\n",
       "      <td>2432.350098</td>\n",
       "      <td>544720.0</td>\n",
       "      <td>2343.987549</td>\n",
       "      <td>2428.949951</td>\n",
       "      <td>2428.949951</td>\n",
       "      <td>2360.050049</td>\n",
       "    </tr>\n",
       "    <tr>\n",
       "      <th>3</th>\n",
       "      <td>2020-01-06</td>\n",
       "      <td>2428.949951</td>\n",
       "      <td>2360.050049</td>\n",
       "      <td>2428.949951</td>\n",
       "      <td>2368.149902</td>\n",
       "      <td>624665.0</td>\n",
       "      <td>2282.119629</td>\n",
       "      <td>2378.000000</td>\n",
       "      <td>2399.899902</td>\n",
       "      <td>2337.000000</td>\n",
       "    </tr>\n",
       "    <tr>\n",
       "      <th>4</th>\n",
       "      <td>2020-01-07</td>\n",
       "      <td>2399.899902</td>\n",
       "      <td>2337.000000</td>\n",
       "      <td>2378.000000</td>\n",
       "      <td>2348.050049</td>\n",
       "      <td>620687.0</td>\n",
       "      <td>2262.750000</td>\n",
       "      <td>2322.000000</td>\n",
       "      <td>2345.050049</td>\n",
       "      <td>2310.550049</td>\n",
       "    </tr>\n",
       "    <tr>\n",
       "      <th>...</th>\n",
       "      <td>...</td>\n",
       "      <td>...</td>\n",
       "      <td>...</td>\n",
       "      <td>...</td>\n",
       "      <td>...</td>\n",
       "      <td>...</td>\n",
       "      <td>...</td>\n",
       "      <td>...</td>\n",
       "      <td>...</td>\n",
       "      <td>...</td>\n",
       "    </tr>\n",
       "    <tr>\n",
       "      <th>259</th>\n",
       "      <td>2021-01-14</td>\n",
       "      <td>3295.000000</td>\n",
       "      <td>3238.050049</td>\n",
       "      <td>3265.000000</td>\n",
       "      <td>3266.600098</td>\n",
       "      <td>803208.0</td>\n",
       "      <td>3266.600098</td>\n",
       "      <td>3250.000000</td>\n",
       "      <td>3270.850098</td>\n",
       "      <td>3174.000000</td>\n",
       "    </tr>\n",
       "    <tr>\n",
       "      <th>260</th>\n",
       "      <td>2021-01-15</td>\n",
       "      <td>3270.850098</td>\n",
       "      <td>3174.000000</td>\n",
       "      <td>3250.000000</td>\n",
       "      <td>3203.000000</td>\n",
       "      <td>1199320.0</td>\n",
       "      <td>3203.000000</td>\n",
       "      <td>3200.000000</td>\n",
       "      <td>3217.550049</td>\n",
       "      <td>3082.250000</td>\n",
       "    </tr>\n",
       "    <tr>\n",
       "      <th>261</th>\n",
       "      <td>2021-01-18</td>\n",
       "      <td>3217.550049</td>\n",
       "      <td>3082.250000</td>\n",
       "      <td>3200.000000</td>\n",
       "      <td>3163.149902</td>\n",
       "      <td>1280163.0</td>\n",
       "      <td>3163.149902</td>\n",
       "      <td>3170.500000</td>\n",
       "      <td>3240.750000</td>\n",
       "      <td>3170.500000</td>\n",
       "    </tr>\n",
       "    <tr>\n",
       "      <th>262</th>\n",
       "      <td>2021-01-19</td>\n",
       "      <td>3240.750000</td>\n",
       "      <td>3170.500000</td>\n",
       "      <td>3170.500000</td>\n",
       "      <td>3232.899902</td>\n",
       "      <td>770832.0</td>\n",
       "      <td>3232.899902</td>\n",
       "      <td>3239.000000</td>\n",
       "      <td>3292.500000</td>\n",
       "      <td>3230.300049</td>\n",
       "    </tr>\n",
       "    <tr>\n",
       "      <th>263</th>\n",
       "      <td>2021-01-20</td>\n",
       "      <td>3292.500000</td>\n",
       "      <td>3230.300049</td>\n",
       "      <td>3239.000000</td>\n",
       "      <td>3275.600098</td>\n",
       "      <td>841752.0</td>\n",
       "      <td>3275.600098</td>\n",
       "      <td>3275.600098</td>\n",
       "      <td>3346.000000</td>\n",
       "      <td>3219.699951</td>\n",
       "    </tr>\n",
       "  </tbody>\n",
       "</table>\n",
       "<p>264 rows × 10 columns</p>\n",
       "</div>"
      ],
      "text/plain": [
       "          Date         High          Low         Open        Close     Volume  \\\n",
       "0   2020-01-01  2462.550049  2427.350098  2454.899902  2432.550049   314519.0   \n",
       "1   2020-01-02  2452.000000  2417.050049  2447.800049  2429.449951   546945.0   \n",
       "2   2020-01-03  2449.000000  2415.000000  2420.000000  2432.350098   544720.0   \n",
       "3   2020-01-06  2428.949951  2360.050049  2428.949951  2368.149902   624665.0   \n",
       "4   2020-01-07  2399.899902  2337.000000  2378.000000  2348.050049   620687.0   \n",
       "..         ...          ...          ...          ...          ...        ...   \n",
       "259 2021-01-14  3295.000000  3238.050049  3265.000000  3266.600098   803208.0   \n",
       "260 2021-01-15  3270.850098  3174.000000  3250.000000  3203.000000  1199320.0   \n",
       "261 2021-01-18  3217.550049  3082.250000  3200.000000  3163.149902  1280163.0   \n",
       "262 2021-01-19  3240.750000  3170.500000  3170.500000  3232.899902   770832.0   \n",
       "263 2021-01-20  3292.500000  3230.300049  3239.000000  3275.600098   841752.0   \n",
       "\n",
       "       Adj Close     NextOpen     NextHigh      NextLow  \n",
       "0    2344.180176  2447.800049  2452.000000  2417.050049  \n",
       "1    2341.192627  2420.000000  2449.000000  2415.000000  \n",
       "2    2343.987549  2428.949951  2428.949951  2360.050049  \n",
       "3    2282.119629  2378.000000  2399.899902  2337.000000  \n",
       "4    2262.750000  2322.000000  2345.050049  2310.550049  \n",
       "..           ...          ...          ...          ...  \n",
       "259  3266.600098  3250.000000  3270.850098  3174.000000  \n",
       "260  3203.000000  3200.000000  3217.550049  3082.250000  \n",
       "261  3163.149902  3170.500000  3240.750000  3170.500000  \n",
       "262  3232.899902  3239.000000  3292.500000  3230.300049  \n",
       "263  3275.600098  3275.600098  3346.000000  3219.699951  \n",
       "\n",
       "[264 rows x 10 columns]"
      ]
     },
     "execution_count": 178,
     "metadata": {},
     "output_type": "execute_result"
    }
   ],
   "source": [
    "data_num"
   ]
  },
  {
   "cell_type": "code",
   "execution_count": 179,
   "metadata": {},
   "outputs": [],
   "source": [
    "from sklearn.model_selection import train_test_split"
   ]
  },
  {
   "cell_type": "code",
   "execution_count": null,
   "metadata": {},
   "outputs": [],
   "source": []
  },
  {
   "cell_type": "code",
   "execution_count": 193,
   "metadata": {
    "scrolled": false
   },
   "outputs": [
    {
     "data": {
      "text/plain": [
       "0.9942467917460814"
      ]
     },
     "execution_count": 193,
     "metadata": {},
     "output_type": "execute_result"
    }
   ],
   "source": [
    "X = data_num.drop(['NextHigh','Date','High','Low','Adj Close','Volume','NextLow'],axis=1)\n",
    "# X = data_num.drop(['Close','Adj Close'],axis=1)\n",
    "\n",
    "y = data_num[['NextHigh','NextLow']]\n",
    "X_train, X_test, y_train, y_test = train_test_split(X,y)\n",
    "model = LinearRegression()\n",
    "model.fit(X_train, y_train)\n",
    "mscore = model.score(X_test,y_test)\n",
    "mscore"
   ]
  },
  {
   "cell_type": "code",
   "execution_count": null,
   "metadata": {},
   "outputs": [],
   "source": []
  },
  {
   "cell_type": "code",
   "execution_count": 194,
   "metadata": {},
   "outputs": [],
   "source": [
    "y_pred = model.predict(X_test)"
   ]
  },
  {
   "cell_type": "code",
   "execution_count": 195,
   "metadata": {},
   "outputs": [
    {
     "data": {
      "image/png": "[encoded data removed]",
      "text/plain": [
       "<Figure size 432x288 with 1 Axes>"
      ]
     },
     "metadata": {
      "needs_background": "light"
     },
     "output_type": "display_data"
    }
   ],
   "source": [
    "import matplotlib.pyplot as plt\n",
    "plt.plot(y_test,y_pred,marker='o',linestyle='',label=\"Predicted\")\n",
    "plt.plot(y_test,y_test, label=\"Original\")\n",
    "\n",
    "plt.legend(loc='best')\n",
    "plt.grid()\n",
    "plt.show()"
   ]
  },
  {
   "cell_type": "code",
   "execution_count": 196,
   "metadata": {},
   "outputs": [
    {
     "data": {
      "text/html": [
       "<div>\n",
       "<style scoped>\n",
       "    .dataframe tbody tr th:only-of-type {\n",
       "        vertical-align: middle;\n",
       "    }\n",
       "\n",
       "    .dataframe tbody tr th {\n",
       "        vertical-align: top;\n",
       "    }\n",
       "\n",
       "    .dataframe thead th {\n",
       "        text-align: right;\n",
       "    }\n",
       "</style>\n",
       "<table border=\"1\" class=\"dataframe\">\n",
       "  <thead>\n",
       "    <tr style=\"text-align: right;\">\n",
       "      <th></th>\n",
       "      <th>Open</th>\n",
       "      <th>Close</th>\n",
       "      <th>NextOpen</th>\n",
       "    </tr>\n",
       "  </thead>\n",
       "  <tbody>\n",
       "    <tr>\n",
       "      <th>136</th>\n",
       "      <td>2860.199951</td>\n",
       "      <td>2869.149902</td>\n",
       "      <td>2860.0</td>\n",
       "    </tr>\n",
       "    <tr>\n",
       "      <th>214</th>\n",
       "      <td>2970.000000</td>\n",
       "      <td>2954.250000</td>\n",
       "      <td>2987.0</td>\n",
       "    </tr>\n",
       "    <tr>\n",
       "      <th>262</th>\n",
       "      <td>3170.500000</td>\n",
       "      <td>3232.899902</td>\n",
       "      <td>3239.0</td>\n",
       "    </tr>\n",
       "    <tr>\n",
       "      <th>45</th>\n",
       "      <td>2061.699951</td>\n",
       "      <td>2063.899902</td>\n",
       "      <td>1971.0</td>\n",
       "    </tr>\n",
       "    <tr>\n",
       "      <th>226</th>\n",
       "      <td>3008.000000</td>\n",
       "      <td>3024.550049</td>\n",
       "      <td>3049.0</td>\n",
       "    </tr>\n",
       "  </tbody>\n",
       "</table>\n",
       "</div>"
      ],
      "text/plain": [
       "            Open        Close  NextOpen\n",
       "136  2860.199951  2869.149902    2860.0\n",
       "214  2970.000000  2954.250000    2987.0\n",
       "262  3170.500000  3232.899902    3239.0\n",
       "45   2061.699951  2063.899902    1971.0\n",
       "226  3008.000000  3024.550049    3049.0"
      ]
     },
     "execution_count": 196,
     "metadata": {},
     "output_type": "execute_result"
    }
   ],
   "source": [
    "X_test.tail()"
   ]
  },
  {
   "cell_type": "code",
   "execution_count": 198,
   "metadata": {},
   "outputs": [
    {
     "name": "stderr",
     "output_type": "stream",
     "text": [
      "D:\\anaconda\\lib\\site-packages\\numpy\\core\\_asarray.py:83: VisibleDeprecationWarning: Creating an ndarray from ragged nested sequences (which is a list-or-tuple of lists-or-tuples-or ndarrays with different lengths or shapes) is deprecated. If you meant to do this, you must specify 'dtype=object' when creating the ndarray\n",
      "  return array(a, dtype, copy=False, order=order)\n"
     ]
    }
   ],
   "source": [
    "nextOpenP = 3265.00000\n",
    "pred = model.predict([[openP,closeP,nextOpenP]]) "
   ]
  },
  {
   "cell_type": "code",
   "execution_count": 199,
   "metadata": {},
   "outputs": [
    {
     "data": {
      "text/plain": [
       "array([[3292.53114723, 3220.10220566]])"
      ]
     },
     "execution_count": 199,
     "metadata": {},
     "output_type": "execute_result"
    }
   ],
   "source": [
    "pred"
   ]
  },
  {
   "cell_type": "code",
   "execution_count": 200,
   "metadata": {},
   "outputs": [
    {
     "name": "stdout",
     "output_type": "stream",
     "text": [
      "variance =  18.78422494904409\n",
      "Profit/Stock  =  26.113569387935513\n",
      "sell at : 3265.0 and buy at : 3238.8864306120645\n"
     ]
    }
   ],
   "source": [
    "diff = (nextOpenP * (100-(mscore*100))/100)\n",
    "print(\"variance = \",diff)\n",
    "ph = (pred[0][0]- diff) - nextOpenP\n",
    "lp = nextOpenP   -  (pred[0][1] + diff )\n",
    "if ph > lp:\n",
    "    profit = ph\n",
    "    print(\"Profit/Stock  = \",ph)\n",
    "    print(\"Buy at :\",nextOpenP,'and sell at :',(pred[0][0]) - diff )\n",
    "else:\n",
    "    profit = lp\n",
    "    print(\"Profit/Stock  = \",lp)\n",
    "    print(\"sell at :\",nextOpenP,'and buy at :',(pred[0][1]) + diff )\n",
    "\n",
    "        "
   ]
  },
  {
   "cell_type": "code",
   "execution_count": 201,
   "metadata": {},
   "outputs": [
    {
     "name": "stdout",
     "output_type": "stream",
     "text": [
      "How Many Stocks?\n",
      "20\n",
      "Your Profit is =  522.2713877587103\n"
     ]
    }
   ],
   "source": [
    "stock  = int(input(\"How Many Stocks?\\n\"))\n",
    "print(\"Your Profit is = \",profit * stock)"
   ]
  },
  {
   "cell_type": "code",
   "execution_count": 127,
   "metadata": {},
   "outputs": [
    {
     "data": {
      "text/plain": [
       "11"
      ]
     },
     "execution_count": 127,
     "metadata": {},
     "output_type": "execute_result"
    }
   ],
   "source": [
    "28-17"
   ]
  },
  {
   "cell_type": "code",
   "execution_count": 129,
   "metadata": {},
   "outputs": [
    {
     "data": {
      "text/plain": [
       "1067"
      ]
     },
     "execution_count": 129,
     "metadata": {},
     "output_type": "execute_result"
    }
   ],
   "source": [
    "97*11"
   ]
  },
  {
   "cell_type": "code",
   "execution_count": 128,
   "metadata": {},
   "outputs": [
    {
     "data": {
      "text/plain": [
       "97.27626459143968"
      ]
     },
     "execution_count": 128,
     "metadata": {},
     "output_type": "execute_result"
    }
   ],
   "source": [
    "100000/1028\n",
    "\n"
   ]
  },
  {
   "cell_type": "code",
   "execution_count": 198,
   "metadata": {},
   "outputs": [
    {
     "data": {
      "text/plain": [
       "1005"
      ]
     },
     "execution_count": 198,
     "metadata": {},
     "output_type": "execute_result"
    }
   ],
   "source": [
    "67 * 15"
   ]
  },
  {
   "cell_type": "code",
   "execution_count": null,
   "metadata": {},
   "outputs": [],
   "source": []
  },
  {
   "cell_type": "code",
   "execution_count": null,
   "metadata": {},
   "outputs": [],
   "source": []
  }
 ],
 "metadata": {
  "kernelspec": {
   "display_name": "Python 3",
   "language": "python",
   "name": "python3"
  },
  "language_info": {
   "codemirror_mode": {
    "name": "ipython",
    "version": 3
   },
   "file_extension": ".py",
   "mimetype": "text/x-python",
   "name": "python",
   "nbconvert_exporter": "python",
   "pygments_lexer": "ipython3",
   "version": "3.8.3"
  }
 },
 "nbformat": 4,
 "nbformat_minor": 4
}
