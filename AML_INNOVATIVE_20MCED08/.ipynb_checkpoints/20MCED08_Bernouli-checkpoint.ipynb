{
 "cells": [
  {
   "cell_type": "markdown",
   "metadata": {},
   "source": [
    "<p><b>Subject : </b> AML</p>\n",
    "<p><b>Subject Code : </b> 3CS1111</p>    \n",
    "<p><b>Roll No : </b> 20MCED08</p>    "
   ]
  },
  {
   "cell_type": "markdown",
   "metadata": {
    "_cell_guid": "097e4b27-d3d4-72bf-954d-ca31aa060438"
   },
   "source": [
    "# Bernouli"
   ]
  },
  {
   "cell_type": "code",
   "execution_count": 1,
   "metadata": {
    "_cell_guid": "70ceca1b-8563-1894-1334-80ffb120f778"
   },
   "outputs": [],
   "source": [
    "import pandas as pd\n",
    "from sklearn.feature_extraction.text import CountVectorizer\n",
    "from sklearn.linear_model import LogisticRegression\n",
    "from sklearn.naive_bayes import BernoulliNB"
   ]
  },
  {
   "cell_type": "markdown",
   "metadata": {
    "_cell_guid": "6ac9d751-e8f5-8940-ac71-426f10e0bd04"
   },
   "source": [
    "----------"
   ]
  },
  {
   "cell_type": "markdown",
   "metadata": {
    "_cell_guid": "f9e5522e-37ef-b384-11e9-42f9895d423c"
   },
   "source": [
    "# Data Import"
   ]
  },
  {
   "cell_type": "code",
   "execution_count": 2,
   "metadata": {
    "_cell_guid": "6da1c746-e849-fa5b-b0b6-4137586b533e"
   },
   "outputs": [],
   "source": [
    "data = pd.read_csv('news.csv')"
   ]
  },
  {
   "cell_type": "code",
   "execution_count": 3,
   "metadata": {},
   "outputs": [
    {
     "data": {
      "text/html": [
       "<div>\n",
       "<style scoped>\n",
       "    .dataframe tbody tr th:only-of-type {\n",
       "        vertical-align: middle;\n",
       "    }\n",
       "\n",
       "    .dataframe tbody tr th {\n",
       "        vertical-align: top;\n",
       "    }\n",
       "\n",
       "    .dataframe thead th {\n",
       "        text-align: right;\n",
       "    }\n",
       "</style>\n",
       "<table border=\"1\" class=\"dataframe\">\n",
       "  <thead>\n",
       "    <tr style=\"text-align: right;\">\n",
       "      <th></th>\n",
       "      <th>Date</th>\n",
       "      <th>Label</th>\n",
       "      <th>Top1</th>\n",
       "      <th>Top2</th>\n",
       "      <th>Top3</th>\n",
       "      <th>Top4</th>\n",
       "      <th>Top5</th>\n",
       "      <th>Top6</th>\n",
       "      <th>Top7</th>\n",
       "      <th>Top8</th>\n",
       "      <th>...</th>\n",
       "      <th>Top16</th>\n",
       "      <th>Top17</th>\n",
       "      <th>Top18</th>\n",
       "      <th>Top19</th>\n",
       "      <th>Top20</th>\n",
       "      <th>Top21</th>\n",
       "      <th>Top22</th>\n",
       "      <th>Top23</th>\n",
       "      <th>Top24</th>\n",
       "      <th>Top25</th>\n",
       "    </tr>\n",
       "  </thead>\n",
       "  <tbody>\n",
       "    <tr>\n",
       "      <th>0</th>\n",
       "      <td>2008-08-08</td>\n",
       "      <td>0</td>\n",
       "      <td>b\"Georgia 'downs two Russian warplanes' as cou...</td>\n",
       "      <td>b'BREAKING: Musharraf to be impeached.'</td>\n",
       "      <td>b'Russia Today: Columns of troops roll into So...</td>\n",
       "      <td>b'Russian tanks are moving towards the capital...</td>\n",
       "      <td>b\"Afghan children raped with 'impunity,' U.N. ...</td>\n",
       "      <td>b'150 Russian tanks have entered South Ossetia...</td>\n",
       "      <td>b\"Breaking: Georgia invades South Ossetia, Rus...</td>\n",
       "      <td>b\"The 'enemy combatent' trials are nothing but...</td>\n",
       "      <td>...</td>\n",
       "      <td>b'Georgia Invades South Ossetia - if Russia ge...</td>\n",
       "      <td>b'Al-Qaeda Faces Islamist Backlash'</td>\n",
       "      <td>b'Condoleezza Rice: \"The US would not act to p...</td>\n",
       "      <td>b'This is a busy day:  The European Union has ...</td>\n",
       "      <td>b\"Georgia will withdraw 1,000 soldiers from Ir...</td>\n",
       "      <td>b'Why the Pentagon Thinks Attacking Iran is a ...</td>\n",
       "      <td>b'Caucasus in crisis: Georgia invades South Os...</td>\n",
       "      <td>b'Indian shoe manufactory  - And again in a se...</td>\n",
       "      <td>b'Visitors Suffering from Mental Illnesses Ban...</td>\n",
       "      <td>b\"No Help for Mexico's Kidnapping Surge\"</td>\n",
       "    </tr>\n",
       "  </tbody>\n",
       "</table>\n",
       "<p>1 rows × 27 columns</p>\n",
       "</div>"
      ],
      "text/plain": [
       "         Date  Label                                               Top1  \\\n",
       "0  2008-08-08      0  b\"Georgia 'downs two Russian warplanes' as cou...   \n",
       "\n",
       "                                      Top2  \\\n",
       "0  b'BREAKING: Musharraf to be impeached.'   \n",
       "\n",
       "                                                Top3  \\\n",
       "0  b'Russia Today: Columns of troops roll into So...   \n",
       "\n",
       "                                                Top4  \\\n",
       "0  b'Russian tanks are moving towards the capital...   \n",
       "\n",
       "                                                Top5  \\\n",
       "0  b\"Afghan children raped with 'impunity,' U.N. ...   \n",
       "\n",
       "                                                Top6  \\\n",
       "0  b'150 Russian tanks have entered South Ossetia...   \n",
       "\n",
       "                                                Top7  \\\n",
       "0  b\"Breaking: Georgia invades South Ossetia, Rus...   \n",
       "\n",
       "                                                Top8  ...  \\\n",
       "0  b\"The 'enemy combatent' trials are nothing but...  ...   \n",
       "\n",
       "                                               Top16  \\\n",
       "0  b'Georgia Invades South Ossetia - if Russia ge...   \n",
       "\n",
       "                                 Top17  \\\n",
       "0  b'Al-Qaeda Faces Islamist Backlash'   \n",
       "\n",
       "                                               Top18  \\\n",
       "0  b'Condoleezza Rice: \"The US would not act to p...   \n",
       "\n",
       "                                               Top19  \\\n",
       "0  b'This is a busy day:  The European Union has ...   \n",
       "\n",
       "                                               Top20  \\\n",
       "0  b\"Georgia will withdraw 1,000 soldiers from Ir...   \n",
       "\n",
       "                                               Top21  \\\n",
       "0  b'Why the Pentagon Thinks Attacking Iran is a ...   \n",
       "\n",
       "                                               Top22  \\\n",
       "0  b'Caucasus in crisis: Georgia invades South Os...   \n",
       "\n",
       "                                               Top23  \\\n",
       "0  b'Indian shoe manufactory  - And again in a se...   \n",
       "\n",
       "                                               Top24  \\\n",
       "0  b'Visitors Suffering from Mental Illnesses Ban...   \n",
       "\n",
       "                                      Top25  \n",
       "0  b\"No Help for Mexico's Kidnapping Surge\"  \n",
       "\n",
       "[1 rows x 27 columns]"
      ]
     },
     "execution_count": 3,
     "metadata": {},
     "output_type": "execute_result"
    }
   ],
   "source": [
    "data.head(1)"
   ]
  },
  {
   "cell_type": "code",
   "execution_count": 4,
   "metadata": {},
   "outputs": [
    {
     "data": {
      "text/html": [
       "<div>\n",
       "<style scoped>\n",
       "    .dataframe tbody tr th:only-of-type {\n",
       "        vertical-align: middle;\n",
       "    }\n",
       "\n",
       "    .dataframe tbody tr th {\n",
       "        vertical-align: top;\n",
       "    }\n",
       "\n",
       "    .dataframe thead th {\n",
       "        text-align: right;\n",
       "    }\n",
       "</style>\n",
       "<table border=\"1\" class=\"dataframe\">\n",
       "  <thead>\n",
       "    <tr style=\"text-align: right;\">\n",
       "      <th></th>\n",
       "      <th>Date</th>\n",
       "      <th>Label</th>\n",
       "      <th>Top1</th>\n",
       "      <th>Top2</th>\n",
       "      <th>Top3</th>\n",
       "      <th>Top4</th>\n",
       "      <th>Top5</th>\n",
       "      <th>Top6</th>\n",
       "      <th>Top7</th>\n",
       "      <th>Top8</th>\n",
       "      <th>...</th>\n",
       "      <th>Top16</th>\n",
       "      <th>Top17</th>\n",
       "      <th>Top18</th>\n",
       "      <th>Top19</th>\n",
       "      <th>Top20</th>\n",
       "      <th>Top21</th>\n",
       "      <th>Top22</th>\n",
       "      <th>Top23</th>\n",
       "      <th>Top24</th>\n",
       "      <th>Top25</th>\n",
       "    </tr>\n",
       "  </thead>\n",
       "  <tbody>\n",
       "    <tr>\n",
       "      <th>1988</th>\n",
       "      <td>2016-07-01</td>\n",
       "      <td>1</td>\n",
       "      <td>A 117-year-old woman in Mexico City finally re...</td>\n",
       "      <td>IMF chief backs Athens as permanent Olympic host</td>\n",
       "      <td>The president of France says if Brexit won, so...</td>\n",
       "      <td>British Man Who Must Give Police 24 Hours' Not...</td>\n",
       "      <td>100+ Nobel laureates urge Greenpeace to stop o...</td>\n",
       "      <td>Brazil: Huge spike in number of police killing...</td>\n",
       "      <td>Austria's highest court annuls presidential el...</td>\n",
       "      <td>Facebook wins privacy case, can track any Belg...</td>\n",
       "      <td>...</td>\n",
       "      <td>The United States has placed Myanmar, Uzbekist...</td>\n",
       "      <td>S&amp;amp;P revises European Union credit rating t...</td>\n",
       "      <td>India gets $1 billion loan from World Bank for...</td>\n",
       "      <td>U.S. sailors detained by Iran spoke too much u...</td>\n",
       "      <td>Mass fish kill in Vietnam solved as Taiwan ste...</td>\n",
       "      <td>Philippines president Rodrigo Duterte urges pe...</td>\n",
       "      <td>Spain arrests three Pakistanis accused of prom...</td>\n",
       "      <td>Venezuela, where anger over food shortages is ...</td>\n",
       "      <td>A Hindu temple worker has been killed by three...</td>\n",
       "      <td>Ozone layer hole seems to be healing - US &amp;amp...</td>\n",
       "    </tr>\n",
       "  </tbody>\n",
       "</table>\n",
       "<p>1 rows × 27 columns</p>\n",
       "</div>"
      ],
      "text/plain": [
       "            Date  Label                                               Top1  \\\n",
       "1988  2016-07-01      1  A 117-year-old woman in Mexico City finally re...   \n",
       "\n",
       "                                                  Top2  \\\n",
       "1988  IMF chief backs Athens as permanent Olympic host   \n",
       "\n",
       "                                                   Top3  \\\n",
       "1988  The president of France says if Brexit won, so...   \n",
       "\n",
       "                                                   Top4  \\\n",
       "1988  British Man Who Must Give Police 24 Hours' Not...   \n",
       "\n",
       "                                                   Top5  \\\n",
       "1988  100+ Nobel laureates urge Greenpeace to stop o...   \n",
       "\n",
       "                                                   Top6  \\\n",
       "1988  Brazil: Huge spike in number of police killing...   \n",
       "\n",
       "                                                   Top7  \\\n",
       "1988  Austria's highest court annuls presidential el...   \n",
       "\n",
       "                                                   Top8  ...  \\\n",
       "1988  Facebook wins privacy case, can track any Belg...  ...   \n",
       "\n",
       "                                                  Top16  \\\n",
       "1988  The United States has placed Myanmar, Uzbekist...   \n",
       "\n",
       "                                                  Top17  \\\n",
       "1988  S&amp;P revises European Union credit rating t...   \n",
       "\n",
       "                                                  Top18  \\\n",
       "1988  India gets $1 billion loan from World Bank for...   \n",
       "\n",
       "                                                  Top19  \\\n",
       "1988  U.S. sailors detained by Iran spoke too much u...   \n",
       "\n",
       "                                                  Top20  \\\n",
       "1988  Mass fish kill in Vietnam solved as Taiwan ste...   \n",
       "\n",
       "                                                  Top21  \\\n",
       "1988  Philippines president Rodrigo Duterte urges pe...   \n",
       "\n",
       "                                                  Top22  \\\n",
       "1988  Spain arrests three Pakistanis accused of prom...   \n",
       "\n",
       "                                                  Top23  \\\n",
       "1988  Venezuela, where anger over food shortages is ...   \n",
       "\n",
       "                                                  Top24  \\\n",
       "1988  A Hindu temple worker has been killed by three...   \n",
       "\n",
       "                                                  Top25  \n",
       "1988  Ozone layer hole seems to be healing - US &amp...  \n",
       "\n",
       "[1 rows x 27 columns]"
      ]
     },
     "execution_count": 4,
     "metadata": {},
     "output_type": "execute_result"
    }
   ],
   "source": [
    "data.tail(1)"
   ]
  },
  {
   "cell_type": "markdown",
   "metadata": {
    "_cell_guid": "228f34e9-9628-bddc-a78a-24adf933644b"
   },
   "source": [
    "Next, let's take a look at the data with the [head](http://pandas.pydata.org/pandas-docs/stable/generated/pandas.DataFrame.head.html) method."
   ]
  },
  {
   "cell_type": "code",
   "execution_count": 5,
   "metadata": {},
   "outputs": [
    {
     "data": {
      "text/plain": [
       "(1989, 27)"
      ]
     },
     "execution_count": 5,
     "metadata": {},
     "output_type": "execute_result"
    }
   ],
   "source": [
    "data.shape"
   ]
  },
  {
   "cell_type": "markdown",
   "metadata": {
    "_cell_guid": "4987908b-e98c-7c20-6c11-023f1bb03883"
   },
   "source": [
    "We've got a lot of vaiables here, but the layout is pretty straight-forward.  \n",
    "As a reminder, the Label variable will be a **1** if the DJIA **stayed the same or rose** on that date or \n",
    " **0** if the DJIA **fell** on that date."
   ]
  },
  {
   "cell_type": "code",
   "execution_count": 6,
   "metadata": {
    "_cell_guid": "b79d88e9-136b-c6c8-0ebb-cc564e24c26e"
   },
   "outputs": [],
   "source": [
    "train = data[data['Date'] < '2015-01-01']\n",
    "test = data[data['Date'] > '2014-12-31']"
   ]
  },
  {
   "cell_type": "markdown",
   "metadata": {
    "_cell_guid": "6ae3f526-4148-0146-1964-9688eb9b08f1"
   },
   "source": [
    "----------"
   ]
  },
  {
   "cell_type": "markdown",
   "metadata": {
    "_cell_guid": "ed38998a-6e7a-aa1c-fa3a-147245aacb5b"
   },
   "source": [
    "# Text Preprocessing"
   ]
  },
  {
   "cell_type": "markdown",
   "metadata": {
    "_cell_guid": "a5bb5d3e-99d6-3485-d30b-9a638ea5f75f"
   },
   "source": [
    "Now that our data is loaded in, we need to clean it up just a little bit to prepare it for the rest of our analysis.  \n",
    "To illustrate this process, look at how the example headline below changes from cell to cell.  \n",
    "Don't worry about the code too much here, since this example is only meant to be visual."
   ]
  },
  {
   "cell_type": "code",
   "execution_count": 7,
   "metadata": {},
   "outputs": [
    {
     "data": {
      "text/html": [
       "<div>\n",
       "<style scoped>\n",
       "    .dataframe tbody tr th:only-of-type {\n",
       "        vertical-align: middle;\n",
       "    }\n",
       "\n",
       "    .dataframe tbody tr th {\n",
       "        vertical-align: top;\n",
       "    }\n",
       "\n",
       "    .dataframe thead th {\n",
       "        text-align: right;\n",
       "    }\n",
       "</style>\n",
       "<table border=\"1\" class=\"dataframe\">\n",
       "  <thead>\n",
       "    <tr style=\"text-align: right;\">\n",
       "      <th></th>\n",
       "      <th>Date</th>\n",
       "      <th>Label</th>\n",
       "      <th>Top1</th>\n",
       "      <th>Top2</th>\n",
       "      <th>Top3</th>\n",
       "      <th>Top4</th>\n",
       "      <th>Top5</th>\n",
       "      <th>Top6</th>\n",
       "      <th>Top7</th>\n",
       "      <th>Top8</th>\n",
       "      <th>...</th>\n",
       "      <th>Top16</th>\n",
       "      <th>Top17</th>\n",
       "      <th>Top18</th>\n",
       "      <th>Top19</th>\n",
       "      <th>Top20</th>\n",
       "      <th>Top21</th>\n",
       "      <th>Top22</th>\n",
       "      <th>Top23</th>\n",
       "      <th>Top24</th>\n",
       "      <th>Top25</th>\n",
       "    </tr>\n",
       "  </thead>\n",
       "  <tbody>\n",
       "    <tr>\n",
       "      <th>1606</th>\n",
       "      <td>2014-12-24</td>\n",
       "      <td>1</td>\n",
       "      <td>Death toll among Qatars 2022 World Cup workers...</td>\n",
       "      <td>Fishing Supertrawlers to be banned permanently...</td>\n",
       "      <td>Indian telecommunications company Airtel viola...</td>\n",
       "      <td>North Korea's Internet is down again; second b...</td>\n",
       "      <td>Jakarta to ban virginity tests for female civi...</td>\n",
       "      <td>Workers at Chinese iPhone factories are pressu...</td>\n",
       "      <td>Thousands in Spain protest ban on demonstratio...</td>\n",
       "      <td>London activists occupy 5-storey former bank i...</td>\n",
       "      <td>...</td>\n",
       "      <td>Scientists discover oldest stone tool ever fou...</td>\n",
       "      <td>ISIS claims capture of Jordanian pilot after p...</td>\n",
       "      <td>Russian prime minister warns of 'deep recessio...</td>\n",
       "      <td>Russia says France must fulfil Mistral contrac...</td>\n",
       "      <td>Secret flight linking Israel to the UAE reveal...</td>\n",
       "      <td>Ukraine temporarily cuts off power supplies to...</td>\n",
       "      <td>Coalition plane 'crashes in Syria'</td>\n",
       "      <td>Across the world 'Silent Night' to honor WWI X...</td>\n",
       "      <td>Elderly Nigerians Rounded Up And Shot Dead</td>\n",
       "      <td>Russia May Be Cut to Junk rating as S&amp;amp;P Sa...</td>\n",
       "    </tr>\n",
       "    <tr>\n",
       "      <th>1607</th>\n",
       "      <td>2014-12-26</td>\n",
       "      <td>1</td>\n",
       "      <td>Saudis are eagerly awaiting the approval of a ...</td>\n",
       "      <td>Due to the fall in oil prices, Saudi Arabia is...</td>\n",
       "      <td>Bill giving government the power to shutdown t...</td>\n",
       "      <td>A struggle for women's rights is brewing withi...</td>\n",
       "      <td>Putin cancels New Year's Holiday for governmen...</td>\n",
       "      <td>Ireland is siding with Microsoft in its legal ...</td>\n",
       "      <td>More than 80 people including women and childr...</td>\n",
       "      <td>The Syrian Army has killed nearly 5,000 Islami...</td>\n",
       "      <td>...</td>\n",
       "      <td>Senior UN officials expelled from Sudan follow...</td>\n",
       "      <td>Mauritania journalist sentenced to death for a...</td>\n",
       "      <td>Kim Dotcom Makes Deal with LizardSquad to stop...</td>\n",
       "      <td>Ukraine peace talks called off</td>\n",
       "      <td>Tibetan protests reported in China's Sichuan</td>\n",
       "      <td>New Study Adds to Skepticism Among Security Ex...</td>\n",
       "      <td>US relocates 3,000 MRAPs, other military gear ...</td>\n",
       "      <td>Russia's new military doctrine names NATO as a...</td>\n",
       "      <td>Protesters in Mexico claim that German arms ma...</td>\n",
       "      <td>A leading Russian elected official on Thursday...</td>\n",
       "    </tr>\n",
       "    <tr>\n",
       "      <th>1608</th>\n",
       "      <td>2014-12-29</td>\n",
       "      <td>0</td>\n",
       "      <td>Solar Power Storage Prices Drop 25% In Germany...</td>\n",
       "      <td>North Korea Hit Again By Internet Outage; Expe...</td>\n",
       "      <td>ARCHAEOLOGY - Massive ancient underground city...</td>\n",
       "      <td>Reopen investigation into Westminster pedophil...</td>\n",
       "      <td>Taliban declare 'defeat' of U.S., allies in Af...</td>\n",
       "      <td>British Falklands defence review after militar...</td>\n",
       "      <td>Virgin Confirms Fault On Plane Circling Over UK</td>\n",
       "      <td>Photo of 'women murdered for refusing sex jiha...</td>\n",
       "      <td>...</td>\n",
       "      <td>Islamic State executed nearly 2,000 people in ...</td>\n",
       "      <td>The leader of one of Mexico's first anti-crime...</td>\n",
       "      <td>Gmail has been blocked in China</td>\n",
       "      <td>Egyptian writer to face trial for 'insulting I...</td>\n",
       "      <td>Reports reveal scale of destruction of Syrias ...</td>\n",
       "      <td>Russia will supply coal and electricity to Kie...</td>\n",
       "      <td>ISIS executes more doctors in Mosul</td>\n",
       "      <td>Russia shows first sign of recession as GDP co...</td>\n",
       "      <td>AirAsia plane likely 'at bottom of the sea,' s...</td>\n",
       "      <td>AirAsia Flight's Altitude Request Was Refused</td>\n",
       "    </tr>\n",
       "    <tr>\n",
       "      <th>1609</th>\n",
       "      <td>2014-12-30</td>\n",
       "      <td>0</td>\n",
       "      <td>China businessman jailed for 13 years for buyi...</td>\n",
       "      <td>AirAsia live: Emergency slide, plane door seen...</td>\n",
       "      <td>AirAsia plane wreckage found, bodies being rec...</td>\n",
       "      <td>Scotland confirms case of Ebola - Ebola cases ...</td>\n",
       "      <td>Pope Francis to Catholics: It's time to take a...</td>\n",
       "      <td>Oil hits five-and-a-half-year low below $57 on...</td>\n",
       "      <td>\"Lizard Squad\" members who ruined Christmas fo...</td>\n",
       "      <td>Two students in Thailand face up to 15 years i...</td>\n",
       "      <td>...</td>\n",
       "      <td>Turkey is being used as one of the primary rou...</td>\n",
       "      <td>Swedish mosque set ablaze in second suspected ...</td>\n",
       "      <td>Cybersecurity Firm Identifies Six In Sony Hack...</td>\n",
       "      <td>The U.N. General Assembly voted unanimously Mo...</td>\n",
       "      <td>\"The regime must be destroyed\": Alexei Navalny...</td>\n",
       "      <td>Aleksei Navalny, Russian opposition leader, is...</td>\n",
       "      <td>Search area for Air Asia QZ8501 expanded, stil...</td>\n",
       "      <td>Ebola case confirmed in Glasgow | World news</td>\n",
       "      <td>AirAsia plane carrying 153 people overshoots r...</td>\n",
       "      <td>One of China's most industrialized cities has ...</td>\n",
       "    </tr>\n",
       "    <tr>\n",
       "      <th>1610</th>\n",
       "      <td>2014-12-31</td>\n",
       "      <td>0</td>\n",
       "      <td>AirAsia flight found at the bottom of the Java...</td>\n",
       "      <td>North Korean defector details 'human experimen...</td>\n",
       "      <td>Korean Air ex-executive Cho Hyun-ah arrested -...</td>\n",
       "      <td>South Korean to drop Sony film \"The Interview\"...</td>\n",
       "      <td>U.S. opening of oil export widens battle: The ...</td>\n",
       "      <td>FBI agents investigating the Sony Pictures hac...</td>\n",
       "      <td>Indian Government Orders Blocking of 32 Websit...</td>\n",
       "      <td>Russia annual inflation jumps to 11.4% as roub...</td>\n",
       "      <td>...</td>\n",
       "      <td>Newly published NSA documents show agency coul...</td>\n",
       "      <td>Britain says it cannot support new Palestinian...</td>\n",
       "      <td>Bolivias Morales: US 'Backs Drug Trafficking'</td>\n",
       "      <td>Euro zone politicians are not obliged to rescu...</td>\n",
       "      <td>Greece Dissolves Parliament to Prepare for Ear...</td>\n",
       "      <td>German Chancellor Angela Merkel in a New Year'...</td>\n",
       "      <td>Al Shabaab leader killed in U.S. air strike in...</td>\n",
       "      <td>New solar power material converts 90 percent o...</td>\n",
       "      <td>China launches website laying claim to Senkaku...</td>\n",
       "      <td>At Least 33 Killed in Yemen Suicide Bombing</td>\n",
       "    </tr>\n",
       "  </tbody>\n",
       "</table>\n",
       "<p>5 rows × 27 columns</p>\n",
       "</div>"
      ],
      "text/plain": [
       "            Date  Label                                               Top1  \\\n",
       "1606  2014-12-24      1  Death toll among Qatars 2022 World Cup workers...   \n",
       "1607  2014-12-26      1  Saudis are eagerly awaiting the approval of a ...   \n",
       "1608  2014-12-29      0  Solar Power Storage Prices Drop 25% In Germany...   \n",
       "1609  2014-12-30      0  China businessman jailed for 13 years for buyi...   \n",
       "1610  2014-12-31      0  AirAsia flight found at the bottom of the Java...   \n",
       "\n",
       "                                                   Top2  \\\n",
       "1606  Fishing Supertrawlers to be banned permanently...   \n",
       "1607  Due to the fall in oil prices, Saudi Arabia is...   \n",
       "1608  North Korea Hit Again By Internet Outage; Expe...   \n",
       "1609  AirAsia live: Emergency slide, plane door seen...   \n",
       "1610  North Korean defector details 'human experimen...   \n",
       "\n",
       "                                                   Top3  \\\n",
       "1606  Indian telecommunications company Airtel viola...   \n",
       "1607  Bill giving government the power to shutdown t...   \n",
       "1608  ARCHAEOLOGY - Massive ancient underground city...   \n",
       "1609  AirAsia plane wreckage found, bodies being rec...   \n",
       "1610  Korean Air ex-executive Cho Hyun-ah arrested -...   \n",
       "\n",
       "                                                   Top4  \\\n",
       "1606  North Korea's Internet is down again; second b...   \n",
       "1607  A struggle for women's rights is brewing withi...   \n",
       "1608  Reopen investigation into Westminster pedophil...   \n",
       "1609  Scotland confirms case of Ebola - Ebola cases ...   \n",
       "1610  South Korean to drop Sony film \"The Interview\"...   \n",
       "\n",
       "                                                   Top5  \\\n",
       "1606  Jakarta to ban virginity tests for female civi...   \n",
       "1607  Putin cancels New Year's Holiday for governmen...   \n",
       "1608  Taliban declare 'defeat' of U.S., allies in Af...   \n",
       "1609  Pope Francis to Catholics: It's time to take a...   \n",
       "1610  U.S. opening of oil export widens battle: The ...   \n",
       "\n",
       "                                                   Top6  \\\n",
       "1606  Workers at Chinese iPhone factories are pressu...   \n",
       "1607  Ireland is siding with Microsoft in its legal ...   \n",
       "1608  British Falklands defence review after militar...   \n",
       "1609  Oil hits five-and-a-half-year low below $57 on...   \n",
       "1610  FBI agents investigating the Sony Pictures hac...   \n",
       "\n",
       "                                                   Top7  \\\n",
       "1606  Thousands in Spain protest ban on demonstratio...   \n",
       "1607  More than 80 people including women and childr...   \n",
       "1608    Virgin Confirms Fault On Plane Circling Over UK   \n",
       "1609  \"Lizard Squad\" members who ruined Christmas fo...   \n",
       "1610  Indian Government Orders Blocking of 32 Websit...   \n",
       "\n",
       "                                                   Top8  ...  \\\n",
       "1606  London activists occupy 5-storey former bank i...  ...   \n",
       "1607  The Syrian Army has killed nearly 5,000 Islami...  ...   \n",
       "1608  Photo of 'women murdered for refusing sex jiha...  ...   \n",
       "1609  Two students in Thailand face up to 15 years i...  ...   \n",
       "1610  Russia annual inflation jumps to 11.4% as roub...  ...   \n",
       "\n",
       "                                                  Top16  \\\n",
       "1606  Scientists discover oldest stone tool ever fou...   \n",
       "1607  Senior UN officials expelled from Sudan follow...   \n",
       "1608  Islamic State executed nearly 2,000 people in ...   \n",
       "1609  Turkey is being used as one of the primary rou...   \n",
       "1610  Newly published NSA documents show agency coul...   \n",
       "\n",
       "                                                  Top17  \\\n",
       "1606  ISIS claims capture of Jordanian pilot after p...   \n",
       "1607  Mauritania journalist sentenced to death for a...   \n",
       "1608  The leader of one of Mexico's first anti-crime...   \n",
       "1609  Swedish mosque set ablaze in second suspected ...   \n",
       "1610  Britain says it cannot support new Palestinian...   \n",
       "\n",
       "                                                  Top18  \\\n",
       "1606  Russian prime minister warns of 'deep recessio...   \n",
       "1607  Kim Dotcom Makes Deal with LizardSquad to stop...   \n",
       "1608                    Gmail has been blocked in China   \n",
       "1609  Cybersecurity Firm Identifies Six In Sony Hack...   \n",
       "1610      Bolivias Morales: US 'Backs Drug Trafficking'   \n",
       "\n",
       "                                                  Top19  \\\n",
       "1606  Russia says France must fulfil Mistral contrac...   \n",
       "1607                     Ukraine peace talks called off   \n",
       "1608  Egyptian writer to face trial for 'insulting I...   \n",
       "1609  The U.N. General Assembly voted unanimously Mo...   \n",
       "1610  Euro zone politicians are not obliged to rescu...   \n",
       "\n",
       "                                                  Top20  \\\n",
       "1606  Secret flight linking Israel to the UAE reveal...   \n",
       "1607       Tibetan protests reported in China's Sichuan   \n",
       "1608  Reports reveal scale of destruction of Syrias ...   \n",
       "1609  \"The regime must be destroyed\": Alexei Navalny...   \n",
       "1610  Greece Dissolves Parliament to Prepare for Ear...   \n",
       "\n",
       "                                                  Top21  \\\n",
       "1606  Ukraine temporarily cuts off power supplies to...   \n",
       "1607  New Study Adds to Skepticism Among Security Ex...   \n",
       "1608  Russia will supply coal and electricity to Kie...   \n",
       "1609  Aleksei Navalny, Russian opposition leader, is...   \n",
       "1610  German Chancellor Angela Merkel in a New Year'...   \n",
       "\n",
       "                                                  Top22  \\\n",
       "1606                 Coalition plane 'crashes in Syria'   \n",
       "1607  US relocates 3,000 MRAPs, other military gear ...   \n",
       "1608                ISIS executes more doctors in Mosul   \n",
       "1609  Search area for Air Asia QZ8501 expanded, stil...   \n",
       "1610  Al Shabaab leader killed in U.S. air strike in...   \n",
       "\n",
       "                                                  Top23  \\\n",
       "1606  Across the world 'Silent Night' to honor WWI X...   \n",
       "1607  Russia's new military doctrine names NATO as a...   \n",
       "1608  Russia shows first sign of recession as GDP co...   \n",
       "1609       Ebola case confirmed in Glasgow | World news   \n",
       "1610  New solar power material converts 90 percent o...   \n",
       "\n",
       "                                                  Top24  \\\n",
       "1606         Elderly Nigerians Rounded Up And Shot Dead   \n",
       "1607  Protesters in Mexico claim that German arms ma...   \n",
       "1608  AirAsia plane likely 'at bottom of the sea,' s...   \n",
       "1609  AirAsia plane carrying 153 people overshoots r...   \n",
       "1610  China launches website laying claim to Senkaku...   \n",
       "\n",
       "                                                  Top25  \n",
       "1606  Russia May Be Cut to Junk rating as S&amp;P Sa...  \n",
       "1607  A leading Russian elected official on Thursday...  \n",
       "1608      AirAsia Flight's Altitude Request Was Refused  \n",
       "1609  One of China's most industrialized cities has ...  \n",
       "1610        At Least 33 Killed in Yemen Suicide Bombing  \n",
       "\n",
       "[5 rows x 27 columns]"
      ]
     },
     "execution_count": 7,
     "metadata": {},
     "output_type": "execute_result"
    }
   ],
   "source": [
    "train.tail()"
   ]
  },
  {
   "cell_type": "markdown",
   "metadata": {
    "_cell_guid": "4c824f61-f8a5-66d6-f1a7-cff3b64c4190"
   },
   "source": [
    "Were you able to see everything that changed?  \n",
    "The process involved:  \n",
    "- Converting the headline to lowercase letters  \n",
    "- Splitting the sentence into a list of words  \n",
    "- Transforming that list into a table of counts"
   ]
  },
  {
   "cell_type": "markdown",
   "metadata": {
    "_cell_guid": "d142f2bc-f61e-4829-4c13-6da37345eea6"
   },
   "source": [
    "----------"
   ]
  },
  {
   "cell_type": "markdown",
   "metadata": {
    "_cell_guid": "cc8aa11c-93cd-1c4b-bf03-21b20a652ecc"
   },
   "source": [
    "# Basic Model Training and Testing"
   ]
  },
  {
   "cell_type": "code",
   "execution_count": 8,
   "metadata": {
    "_cell_guid": "3c8ed1f2-2dcf-1015-05b7-edfb95773b4e"
   },
   "outputs": [],
   "source": [
    "trainheadlines = []\n",
    "for row in range(0,len(train.index)):\n",
    "    trainheadlines.append(' '.join(str(x) for x in train.iloc[row,2:27]))"
   ]
  },
  {
   "cell_type": "code",
   "execution_count": 9,
   "metadata": {},
   "outputs": [
    {
     "data": {
      "text/plain": [
       "(1611, 27)"
      ]
     },
     "execution_count": 9,
     "metadata": {},
     "output_type": "execute_result"
    }
   ],
   "source": [
    "train.shape"
   ]
  },
  {
   "cell_type": "code",
   "execution_count": 10,
   "metadata": {
    "_cell_guid": "18f44a5c-3f39-5ce4-5f0b-9aa86ac29f5d"
   },
   "outputs": [
    {
     "name": "stdout",
     "output_type": "stream",
     "text": [
      "(1611, 31675)\n"
     ]
    }
   ],
   "source": [
    "basicvectorizer = CountVectorizer()\n",
    "basictrain = basicvectorizer.fit_transform(trainheadlines)\n",
    "print(basictrain.shape)"
   ]
  },
  {
   "cell_type": "code",
   "execution_count": 11,
   "metadata": {},
   "outputs": [
    {
     "name": "stdout",
     "output_type": "stream",
     "text": [
      "  (0, 12120)\t10\n",
      "  (0, 9116)\t1\n",
      "  (0, 29313)\t2\n",
      "  (0, 24572)\t5\n",
      "  (0, 30656)\t1\n",
      "  (0, 2705)\t1\n",
      "  (0, 7138)\t2\n",
      "  (0, 18619)\t1\n",
      "  (0, 28628)\t7\n",
      "  (0, 4631)\t1\n",
      "  (0, 20034)\t11\n",
      "  (0, 30614)\t5\n",
      "  (0, 4542)\t2\n",
      "  (0, 18776)\t1\n",
      "  (0, 3561)\t2\n",
      "  (0, 14201)\t1\n",
      "  (0, 24571)\t5\n",
      "  (0, 28636)\t2\n",
      "  (0, 6326)\t1\n",
      "  (0, 29118)\t2\n",
      "  (0, 24352)\t1\n",
      "  (0, 14898)\t1\n",
      "  (0, 26517)\t7\n",
      "  (0, 20360)\t7\n",
      "  (0, 11399)\t1\n",
      "  :\t:\n",
      "  (1610, 17862)\t2\n",
      "  (1610, 15268)\t1\n",
      "  (1610, 19682)\t1\n",
      "  (1610, 5581)\t2\n",
      "  (1610, 16817)\t1\n",
      "  (1610, 21809)\t1\n",
      "  (1610, 2566)\t1\n",
      "  (1610, 7953)\t1\n",
      "  (1610, 2493)\t1\n",
      "  (1610, 12953)\t1\n",
      "  (1610, 25304)\t1\n",
      "  (1610, 25456)\t1\n",
      "  (1610, 19618)\t1\n",
      "  (1610, 4605)\t1\n",
      "  (1610, 1810)\t1\n",
      "  (1610, 19943)\t1\n",
      "  (1610, 17897)\t1\n",
      "  (1610, 6935)\t1\n",
      "  (1610, 24430)\t1\n",
      "  (1610, 5813)\t1\n",
      "  (1610, 22065)\t1\n",
      "  (1610, 12230)\t1\n",
      "  (1610, 26511)\t1\n",
      "  (1610, 8195)\t1\n",
      "  (1610, 6235)\t1\n"
     ]
    }
   ],
   "source": [
    "print(basictrain)"
   ]
  },
  {
   "cell_type": "markdown",
   "metadata": {
    "_cell_guid": "cae0096e-5a09-2304-184e-e4afebe753b8"
   },
   "source": [
    "Wow! Our resulting table contains counts for 31,675 different words!"
   ]
  },
  {
   "cell_type": "markdown",
   "metadata": {
    "_cell_guid": "781fb862-f8c2-1e5e-af6f-16f6922eb6c8"
   },
   "source": [
    "Now, let's train a logistic regression model using this data.  \n",
    "In the cell below, we're simply naming our model, then [fitting](http://scikit-learn.org/stable/modules/generated/sklearn.linear_model.LogisticRegression.html#sklearn.linear_model.LogisticRegression.fit) the model based on our X and Y values."
   ]
  },
  {
   "cell_type": "code",
   "execution_count": 12,
   "metadata": {
    "_cell_guid": "5f4d9232-5b01-4c65-a933-eda036a25216"
   },
   "outputs": [],
   "source": [
    "basicmodel = BernoulliNB()\n",
    "basicmodel = basicmodel.fit(basictrain, train[\"Label\"])"
   ]
  },
  {
   "cell_type": "markdown",
   "metadata": {
    "_cell_guid": "5e43218f-9c22-bb3c-8e3f-964857c1c7bb"
   },
   "source": [
    "Our model is ready to go, so let's set up our test data.  \n",
    "Here, we're just going to repeat the steps we used to prep our training data, then [predict](http://scikit-learn.org/stable/modules/generated/sklearn.linear_model.LogisticRegression.html#sklearn.linear_model.LogisticRegression.predict) whether the DJIA increased or decreased for each day in the test dataset."
   ]
  },
  {
   "cell_type": "code",
   "execution_count": 13,
   "metadata": {
    "_cell_guid": "2c51dcd0-0d7a-41d5-6445-0eadf1d18e87"
   },
   "outputs": [],
   "source": [
    "testheadlines = []\n",
    "for row in range(0,len(test.index)):\n",
    "    testheadlines.append(' '.join(str(x) for x in test.iloc[row,2:27]))\n",
    "basictest = basicvectorizer.transform(testheadlines)\n",
    "predictions = basicmodel.predict(basictest)"
   ]
  },
  {
   "cell_type": "markdown",
   "metadata": {
    "_cell_guid": "aabb5e54-c8b5-e952-0701-8fe3febd64b3"
   },
   "source": [
    "----------"
   ]
  },
  {
   "cell_type": "code",
   "execution_count": 14,
   "metadata": {
    "_cell_guid": "2db3b5d0-f86a-5d23-3ae5-7fe725dbd4ab",
    "scrolled": false
   },
   "outputs": [
    {
     "name": "stdout",
     "output_type": "stream",
     "text": [
      "[[ 35 151]\n",
      " [ 49 143]]\n",
      "0.4708994708994709\n",
      "              precision    recall  f1-score   support\n",
      "\n",
      "           0       0.42      0.19      0.26       186\n",
      "           1       0.49      0.74      0.59       192\n",
      "\n",
      "    accuracy                           0.47       378\n",
      "   macro avg       0.45      0.47      0.42       378\n",
      "weighted avg       0.45      0.47      0.43       378\n",
      "\n"
     ]
    }
   ],
   "source": [
    "from sklearn.metrics import classification_report,confusion_matrix,accuracy_score\n",
    "matrix=confusion_matrix(test['Label'],predictions)\n",
    "print(matrix)\n",
    "score=accuracy_score(test['Label'],predictions)\n",
    "print(score)\n",
    "report=classification_report(test['Label'],predictions)\n",
    "print(report)\n"
   ]
  },
  {
   "cell_type": "code",
   "execution_count": null,
   "metadata": {},
   "outputs": [],
   "source": []
  },
  {
   "cell_type": "code",
   "execution_count": null,
   "metadata": {},
   "outputs": [],
   "source": []
  }
 ],
 "metadata": {
  "_change_revision": 302,
  "_is_fork": false,
  "kernelspec": {
   "display_name": "Python 3",
   "language": "python",
   "name": "python3"
  },
  "language_info": {
   "codemirror_mode": {
    "name": "ipython",
    "version": 3
   },
   "file_extension": ".py",
   "mimetype": "text/x-python",
   "name": "python",
   "nbconvert_exporter": "python",
   "pygments_lexer": "ipython3",
   "version": "3.8.3"
  }
 },
 "nbformat": 4,
 "nbformat_minor": 1
}
